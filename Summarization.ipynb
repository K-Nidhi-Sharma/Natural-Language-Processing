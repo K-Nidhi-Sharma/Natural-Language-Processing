{
 "cells": [
  {
   "cell_type": "markdown",
   "id": "fb95500c",
   "metadata": {},
   "source": [
    "# <center>NATURAL LANGUAGE PROCESSING </center>\n",
    "## <center> CAC 1 : TEXT SUMMARIATION </center>\n",
    "### <center> K Nidhi Sharma, 2148041 </center>"
   ]
  },
  {
   "cell_type": "markdown",
   "id": "4bcec1f2",
   "metadata": {},
   "source": [
    "Text summarization is the method of generating a brief and accurate summary of a large text while concentrating on the passages that provide relevant information and keeping the main ideas intact.\n",
    "\n",
    "In general, there are two methods used in NLP to summarise texts: extraction and abstraction.\n",
    "\n",
    "In **extraction-based summarising**, a selection of words that best capture the text's key ideas are selected, then they are concatenated to create a summary.\n",
    "\n",
    "Advanced deep learning algorithms are used in **abstraction-based summarization** to paraphrase and condense the original text, exactly like humans do."
   ]
  },
  {
   "cell_type": "markdown",
   "id": "740961bb",
   "metadata": {},
   "source": [
    "### Importing libraries "
   ]
  },
  {
   "cell_type": "code",
   "execution_count": 1,
   "id": "0609b015",
   "metadata": {},
   "outputs": [],
   "source": [
    "from nltk.corpus import stopwords\n",
    "from nltk.tokenize import word_tokenize, sent_tokenize\n",
    "from sklearn.feature_extraction.text import TfidfVectorizer\n",
    "import regex as re"
   ]
  },
  {
   "cell_type": "markdown",
   "id": "b6148663",
   "metadata": {},
   "source": [
    "### Reading the data"
   ]
  },
  {
   "cell_type": "code",
   "execution_count": 2,
   "id": "d0224a33",
   "metadata": {},
   "outputs": [
    {
     "name": "stdout",
     "output_type": "stream",
     "text": [
      "The length of the original text is 5010\n"
     ]
    }
   ],
   "source": [
    "text_original=open('E:\\\\PG_sem3\\\\nlp\\\\text.txt').read()\n",
    "print(\"The length of the original text is\",len(text_original)) "
   ]
  },
  {
   "cell_type": "code",
   "execution_count": 3,
   "id": "d627e3b5",
   "metadata": {},
   "outputs": [
    {
     "name": "stdout",
     "output_type": "stream",
     "text": [
      "ORIGINAL TEXT:\n",
      " Enzo Ferrari was not initially interested in the idea of producing road cars when\n",
      "he formed Scuderia Ferrari in 1929, with headquarters in Modena. Scuderia Ferrari\n",
      "(pronounced [skude?ri?a]) literally means &quot;Ferrari Stable&quot; and is usually used to\n",
      "mean &quot;Team Ferrari.&quot; Ferrari bought,[citation needed] prepared, and fielded Alfa\n",
      "Romeo racing cars for gentleman drivers, functioning as the racing division of\n",
      "Alfa Romeo. In 1933, Alfa Romeo withdrew its in-house racing team and Scuderia\n",
      "Ferrari took over as its works team:[1] the Scuderia received Alfa&#39;s Grand Prix\n",
      "cars of the latest specifications and fielded many famous drivers such as Tazio\n",
      "Nuvolari and Achille Varzi. In 1938, Alfa Romeo brought its racing operation again\n",
      "in-house, forming Alfa Corse in Milan and hired Enzo Ferrari as manager of the new\n",
      "racing department; therefore the Scuderia Ferrari was disbanded.[1]\n",
      "The first vehicle made with the Ferrari name was the 125 S. Only two of this small\n",
      "two-seat sports/racing V12 car were made. In 1949, the 166 Inter was introduced\n",
      "marking the company&#39;s significant move into the grand touring road car market. The\n",
      "first 166 Inter was a four-seat (2+2) berlinetta coupe with body work designed by\n",
      "Carrozzeria Touring Superleggera. Road cars quickly became the bulk of Ferrari\n",
      "sales.\n",
      "The early Ferrari cars typically featured bodywork designed and customised by\n",
      "independent coachbuilders such as Pininfarina, Scaglietti, Zagato, Vignale and\n",
      "Bertone.\n",
      "The original road cars were typically two-seat front-engined V12s. This platform\n",
      "served Ferrari very well through the 1950s and 1960s. In 1968 the Dino was\n",
      "introduced as the first two-seat rear mid-engined Ferrari. The Dino was produced\n",
      "primarily with a V6 engine, however, a V8 model was also developed. This rear mid-\n",
      "engine layout would go on to be used in many Ferraris of the 1980s, 1990s and to\n",
      "the present day. Current road cars typically use V8 or V12 engines, with V8 models\n",
      "making up well over half of the marque&#39;s total production. Historically, Ferrari\n",
      "has also produced flat 12 engines.\n",
      "In September 1939, Ferrari left Alfa Romeo under the provision he would not use\n",
      "the Ferrari name in association with races or racing cars for at least four\n",
      "years.[1] A few days later he founded Auto Avio Costruzioni, headquartered in the\n",
      "facilities of the old Scuderia Ferrari.[1] The new company ostensibly produced\n",
      "machine tools and aircraft accessories. In 1940, Ferrari produced a race car – the\n",
      "Tipo 815, based on a Fiat platform. It was the first Ferrari car and debuted at\n",
      "the 1940 Mille Miglia, but due to World War II it saw little competition. In 1943,\n",
      "the Ferrari factory moved to Maranello, where it has remained ever since. The\n",
      "factory was bombed by the Allies and subsequently rebuilt including works for road\n",
      "car production.\n",
      "125 S replica\n",
      "\n",
      "166 MM Touring Barchetta\n",
      "The first series produced Ferrari, the 1958 250 GT Coupé\n",
      "The first Ferrari-badged car was the 1947 125 S, powered by a 1.5 L V12 engine;[1]\n",
      "Enzo Ferrari reluctantly built and sold his automobiles to fund Scuderia\n",
      "Ferrari.[18]\n",
      "The Scuderia Ferrari name was resurrected to denote the factory racing cars and\n",
      "distinguish them from those fielded by customer teams.\n",
      "In 1960 the company was restructured as a public corporation under the name SEFAC\n",
      "S.p.A. (Società Esercizio Fabbriche Automobili e Corse).[19]\n",
      "Early in 1969, Fiat took a 50% stake in Ferrari. An immediate result was an\n",
      "increase in available investment funds, and work started at once on a factory\n",
      "extension intended to transfer production from Fiat&#39;s Turin plant of the Ferrari\n",
      "engined Fiat Dino. New model investment further up in the Ferrari range also\n",
      "received a boost.\n",
      "In 1988, Enzo Ferrari oversaw the launch of the Ferrari F40, the last new Ferrari\n",
      "launched before his death later that year. In 1989, the company was renamed\n",
      "Ferrari S.p.A.[19] From 2002 to 2004, Ferrari produced the Enzo, their fastest\n",
      "model at the time, which was introduced and named in honor of the company&#39;s\n",
      "founder, Enzo Ferrari. It was to be called the F60, continuing on from the F40 and\n",
      "F50, but Ferrari was so pleased with it, they called it the Enzo instead. It was\n",
      "initially offered to loyal and recurring customers, each of the 399 made (minus\n",
      "the 400th which was donated to the Vatican for charity) had a price tag of\n",
      "$650,000 apiece (equivalent to £400,900).\n",
      "On 15 September 2012, 964 Ferrari cars worth over $162 million (£99.95 million)\n",
      "attended the Ferrari Driving Days event at Silverstone Circuit and paraded round\n",
      "the Silverstone Circuit setting a world record.[20]\n",
      "Ferrari&#39;s former CEO and Chairman, Luca di Montezemolo, resigned from the company\n",
      "after 23 years, who was succeeded by Amedeo Felisa and finally on 3 May 2016\n",
      "Amedeo resigned and was succeeded by Sergio Marchionne, CEO and Chairman of Fiat\n",
      "Chrysler Automobiles, Ferrari&#39;s parent company.[21] In July 2018, Marchionne was\n",
      "replaced by board member Louis Camilleri as CEO and by John Elkann as chairman.\n",
      "\n",
      "\n"
     ]
    }
   ],
   "source": [
    "print(\"ORIGINAL TEXT:\\n\", text_original)"
   ]
  },
  {
   "cell_type": "markdown",
   "id": "34085dce",
   "metadata": {},
   "source": [
    "### Pre-processing the text file"
   ]
  },
  {
   "cell_type": "markdown",
   "id": "97c01103",
   "metadata": {},
   "source": [
    "When the original text is observed, it is noticed that there exists extra new line spaces, and quotes are represented as **&quot** and apostrophe is denoted as **&#39**. \n",
    "\n",
    "In the pre-processing step, the following is corrected to get accurate results. "
   ]
  },
  {
   "cell_type": "code",
   "execution_count": 4,
   "id": "e6c3a07a",
   "metadata": {},
   "outputs": [],
   "source": [
    "text=open('E:\\\\PG_sem3\\\\nlp\\\\text.txt').read()"
   ]
  },
  {
   "cell_type": "code",
   "execution_count": 5,
   "id": "d6af89ad",
   "metadata": {
    "scrolled": true
   },
   "outputs": [
    {
     "name": "stdout",
     "output_type": "stream",
     "text": [
      "PROCESSED TEXT:\n",
      " Enzo Ferrari was not initially interested in the idea of producing road cars when he formed Scuderia Ferrari in 1929, with headquarters in Modena. Scuderia Ferrari (pronounced [skude?ri?a]) literally means 'Ferrari Stable' and is usually used to mean 'Team Ferrari.' Ferrari bought,[citation needed] prepared, and fielded Alfa Romeo racing cars for gentleman drivers, functioning as the racing division of Alfa Romeo. In 1933, Alfa Romeo withdrew its in-house racing team and Scuderia Ferrari took over as its works team:[1] the Scuderia received Alfa's Grand Prix cars of the latest specifications and fielded many famous drivers such as Tazio Nuvolari and Achille Varzi. In 1938, Alfa Romeo brought its racing operation again in-house, forming Alfa Corse in Milan and hired Enzo Ferrari as manager of the new racing department; therefore the Scuderia Ferrari was disbanded.[1] The first vehicle made with the Ferrari name was the 125 S. Only two of this small two-seat sports/racing V12 car were made. In 1949, the 166 Inter was introduced marking the company's significant move into the grand touring road car market. The first 166 Inter was a four-seat (2+2) berlinetta coupe with body work designed by Carrozzeria Touring Superleggera. Road cars quickly became the bulk of Ferrari sales. The early Ferrari cars typically featured bodywork designed and customised by independent coachbuilders such as Pininfarina, Scaglietti, Zagato, Vignale and Bertone. The original road cars were typically two-seat front-engined V12s. This platform served Ferrari very well through the 1950s and 1960s. In 1968 the Dino was introduced as the first two-seat rear mid-engined Ferrari. The Dino was produced primarily with a V6 engine, however, a V8 model was also developed. This rear mid- engine layout would go on to be used in many Ferraris of the 1980s, 1990s and to the present day. Current road cars typically use V8 or V12 engines, with V8 models making up well over half of the marque's total production. Historically, Ferrari has also produced flat 12 engines. In September 1939, Ferrari left Alfa Romeo under the provision he would not use the Ferrari name in association with races or racing cars for at least four years.[1] A few days later he founded Auto Avio Costruzioni, headquartered in the facilities of the old Scuderia Ferrari.[1] The new company ostensibly produced machine tools and aircraft accessories. In 1940, Ferrari produced a race car – the Tipo 815, based on a Fiat platform. It was the first Ferrari car and debuted at the 1940 Mille Miglia, but due to World War II it saw little competition. In 1943, the Ferrari factory moved to Maranello, where it has remained ever since. The factory was bombed by the Allies and subsequently rebuilt including works for road car production. 125 S replica  166 MM Touring Barchetta The first series produced Ferrari, the 1958 250 GT Coupé The first Ferrari-badged car was the 1947 125 S, powered by a 1.5 L V12 engine;[1] Enzo Ferrari reluctantly built and sold his automobiles to fund Scuderia Ferrari.[18] The Scuderia Ferrari name was resurrected to denote the factory racing cars and distinguish them from those fielded by customer teams. In 1960 the company was restructured as a public corporation under the name SEFAC S.p.A. (Società Esercizio Fabbriche Automobili e Corse).[19] Early in 1969, Fiat took a 50% stake in Ferrari. An immediate result was an increase in available investment funds, and work started at once on a factory extension intended to transfer production from Fiat's Turin plant of the Ferrari engined Fiat Dino. New model investment further up in the Ferrari range also received a boost. In 1988, Enzo Ferrari oversaw the launch of the Ferrari F40, the last new Ferrari launched before his death later that year. In 1989, the company was renamed Ferrari S.p.A.[19] From 2002 to 2004, Ferrari produced the Enzo, their fastest model at the time, which was introduced and named in honor of the company's founder, Enzo Ferrari. It was to be called the F60, continuing on from the F40 and F50, but Ferrari was so pleased with it, they called it the Enzo instead. It was initially offered to loyal and recurring customers, each of the 399 made (minus the 400th which was donated to the Vatican for charity) had a price tag of $650,000 apiece (equivalent to £400,900). On 15 September 2012, 964 Ferrari cars worth over $162 million (£99.95 million) attended the Ferrari Driving Days event at Silverstone Circuit and paraded round the Silverstone Circuit setting a world record.[20] Ferrari's former CEO and Chairman, Luca di Montezemolo, resigned from the company after 23 years, who was succeeded by Amedeo Felisa and finally on 3 May 2016 Amedeo resigned and was succeeded by Sergio Marchionne, CEO and Chairman of Fiat Chrysler Automobiles, Ferrari's parent company.[21] In July 2018, Marchionne was replaced by board member Louis Camilleri as CEO and by John Elkann as chairman.  \n"
     ]
    }
   ],
   "source": [
    "text=re.sub(\"\\n\",\" \",text) # removing newline (\\n)\n",
    "text=re.sub(\"&#39;\",\"'\",text) #replacing apostrophe\n",
    "text=re.sub(\"&quot;\",\"'\",text) #replacing quotes\n",
    "\n",
    "print(\"PROCESSED TEXT:\\n\",text)"
   ]
  },
  {
   "cell_type": "markdown",
   "id": "657ec0b7",
   "metadata": {},
   "source": [
    "## Summarization using frequency distribution"
   ]
  },
  {
   "cell_type": "markdown",
   "id": "482aec2a",
   "metadata": {},
   "source": [
    "Steps involved in summarization:\n",
    "1. Import libraries\n",
    "2. Remove stop words and tokenization\n",
    "3. Create frequency table\n",
    "4. Scoring sentence\n",
    "5. Summarization"
   ]
  },
  {
   "cell_type": "markdown",
   "id": "7e5cd662",
   "metadata": {},
   "source": [
    "### Removing stopwords & word tokenization"
   ]
  },
  {
   "cell_type": "code",
   "execution_count": 6,
   "id": "84928a0d",
   "metadata": {},
   "outputs": [],
   "source": [
    "stopwords = stopwords.words(\"english\") # english stopwords such as - a, the, and, an, etc\n",
    "words = word_tokenize(text) #word tokenization for frequency"
   ]
  },
  {
   "cell_type": "markdown",
   "id": "1b1e18c7",
   "metadata": {},
   "source": [
    "### Creating frequency distribution\n",
    "\n",
    "A dictionary is created for the word frequency table from the given text file. The words which are not part of stopwords arrays are only included in  this dictionary."
   ]
  },
  {
   "cell_type": "code",
   "execution_count": 7,
   "id": "cc4c2836",
   "metadata": {},
   "outputs": [
    {
     "data": {
      "text/plain": [
       "{'enzo': 7,\n",
       " 'ferrari': 38,\n",
       " 'initially': 2,\n",
       " 'interested': 1,\n",
       " 'idea': 1,\n",
       " 'producing': 1,\n",
       " 'road': 6,\n",
       " 'cars': 10,\n",
       " 'formed': 1,\n",
       " 'scuderia': 8,\n",
       " '1929': 1,\n",
       " ',': 45,\n",
       " 'headquarters': 1,\n",
       " 'modena': 1,\n",
       " '.': 37,\n",
       " '(': 6,\n",
       " 'pronounced': 1,\n",
       " '[': 12,\n",
       " 'skude': 1,\n",
       " '?': 2,\n",
       " 'ri': 1,\n",
       " ']': 12,\n",
       " ')': 6,\n",
       " 'literally': 1,\n",
       " 'means': 1,\n",
       " \"'ferrari\": 1,\n",
       " 'stable': 1,\n",
       " \"'\": 2,\n",
       " 'usually': 1,\n",
       " 'used': 2,\n",
       " 'mean': 1,\n",
       " \"'team\": 1,\n",
       " 'bought': 1,\n",
       " 'citation': 1,\n",
       " 'needed': 1,\n",
       " 'prepared': 1,\n",
       " 'fielded': 3,\n",
       " 'alfa': 7,\n",
       " 'romeo': 5,\n",
       " 'racing': 7,\n",
       " 'gentleman': 1,\n",
       " 'drivers': 2,\n",
       " 'functioning': 1,\n",
       " 'division': 1,\n",
       " '1933': 1,\n",
       " 'withdrew': 1,\n",
       " 'in-house': 2,\n",
       " 'team': 2,\n",
       " 'took': 2,\n",
       " 'works': 2,\n",
       " ':': 1,\n",
       " '1': 5,\n",
       " 'received': 2,\n",
       " \"'s\": 7,\n",
       " 'grand': 2,\n",
       " 'prix': 1,\n",
       " 'latest': 1,\n",
       " 'specifications': 1,\n",
       " 'many': 2,\n",
       " 'famous': 1,\n",
       " 'tazio': 1,\n",
       " 'nuvolari': 1,\n",
       " 'achille': 1,\n",
       " 'varzi': 1,\n",
       " '1938': 1,\n",
       " 'brought': 1,\n",
       " 'operation': 1,\n",
       " 'forming': 1,\n",
       " 'corse': 2,\n",
       " 'milan': 1,\n",
       " 'hired': 1,\n",
       " 'manager': 1,\n",
       " 'new': 4,\n",
       " 'department': 1,\n",
       " ';': 2,\n",
       " 'therefore': 1,\n",
       " 'disbanded': 1,\n",
       " 'first': 6,\n",
       " 'vehicle': 1,\n",
       " 'made': 3,\n",
       " 'name': 4,\n",
       " '125': 3,\n",
       " 's.': 1,\n",
       " 'two': 1,\n",
       " 'small': 1,\n",
       " 'two-seat': 3,\n",
       " 'sports/racing': 1,\n",
       " 'v12': 3,\n",
       " 'car': 6,\n",
       " '1949': 1,\n",
       " '166': 3,\n",
       " 'inter': 2,\n",
       " 'introduced': 3,\n",
       " 'marking': 1,\n",
       " 'company': 7,\n",
       " 'significant': 1,\n",
       " 'move': 1,\n",
       " 'touring': 3,\n",
       " 'market': 1,\n",
       " 'four-seat': 1,\n",
       " '2+2': 1,\n",
       " 'berlinetta': 1,\n",
       " 'coupe': 1,\n",
       " 'body': 1,\n",
       " 'work': 2,\n",
       " 'designed': 2,\n",
       " 'carrozzeria': 1,\n",
       " 'superleggera': 1,\n",
       " 'quickly': 1,\n",
       " 'became': 1,\n",
       " 'bulk': 1,\n",
       " 'sales': 1,\n",
       " 'early': 2,\n",
       " 'typically': 3,\n",
       " 'featured': 1,\n",
       " 'bodywork': 1,\n",
       " 'customised': 1,\n",
       " 'independent': 1,\n",
       " 'coachbuilders': 1,\n",
       " 'pininfarina': 1,\n",
       " 'scaglietti': 1,\n",
       " 'zagato': 1,\n",
       " 'vignale': 1,\n",
       " 'bertone': 1,\n",
       " 'original': 1,\n",
       " 'front-engined': 1,\n",
       " 'v12s': 1,\n",
       " 'platform': 2,\n",
       " 'served': 1,\n",
       " 'well': 2,\n",
       " '1950s': 1,\n",
       " '1960s': 1,\n",
       " '1968': 1,\n",
       " 'dino': 3,\n",
       " 'rear': 2,\n",
       " 'mid-engined': 1,\n",
       " 'produced': 6,\n",
       " 'primarily': 1,\n",
       " 'v6': 1,\n",
       " 'engine': 3,\n",
       " 'however': 1,\n",
       " 'v8': 3,\n",
       " 'model': 3,\n",
       " 'also': 3,\n",
       " 'developed': 1,\n",
       " 'mid-': 1,\n",
       " 'layout': 1,\n",
       " 'would': 2,\n",
       " 'go': 1,\n",
       " 'ferraris': 1,\n",
       " '1980s': 1,\n",
       " '1990s': 1,\n",
       " 'present': 1,\n",
       " 'day': 1,\n",
       " 'current': 1,\n",
       " 'use': 2,\n",
       " 'engines': 2,\n",
       " 'models': 1,\n",
       " 'making': 1,\n",
       " 'half': 1,\n",
       " 'marque': 1,\n",
       " 'total': 1,\n",
       " 'production': 3,\n",
       " 'historically': 1,\n",
       " 'flat': 1,\n",
       " '12': 1,\n",
       " 'september': 2,\n",
       " '1939': 1,\n",
       " 'left': 1,\n",
       " 'provision': 1,\n",
       " 'association': 1,\n",
       " 'races': 1,\n",
       " 'least': 1,\n",
       " 'four': 1,\n",
       " 'years': 2,\n",
       " 'days': 2,\n",
       " 'later': 2,\n",
       " 'founded': 1,\n",
       " 'auto': 1,\n",
       " 'avio': 1,\n",
       " 'costruzioni': 1,\n",
       " 'headquartered': 1,\n",
       " 'facilities': 1,\n",
       " 'old': 1,\n",
       " 'ostensibly': 1,\n",
       " 'machine': 1,\n",
       " 'tools': 1,\n",
       " 'aircraft': 1,\n",
       " 'accessories': 1,\n",
       " '1940': 2,\n",
       " 'race': 1,\n",
       " '–': 1,\n",
       " 'tipo': 1,\n",
       " '815': 1,\n",
       " 'based': 1,\n",
       " 'fiat': 5,\n",
       " 'debuted': 1,\n",
       " 'mille': 1,\n",
       " 'miglia': 1,\n",
       " 'due': 1,\n",
       " 'world': 2,\n",
       " 'war': 1,\n",
       " 'ii': 1,\n",
       " 'saw': 1,\n",
       " 'little': 1,\n",
       " 'competition': 1,\n",
       " '1943': 1,\n",
       " 'factory': 4,\n",
       " 'moved': 1,\n",
       " 'maranello': 1,\n",
       " 'remained': 1,\n",
       " 'ever': 1,\n",
       " 'since': 1,\n",
       " 'bombed': 1,\n",
       " 'allies': 1,\n",
       " 'subsequently': 1,\n",
       " 'rebuilt': 1,\n",
       " 'including': 1,\n",
       " 'replica': 1,\n",
       " 'mm': 1,\n",
       " 'barchetta': 1,\n",
       " 'series': 1,\n",
       " '1958': 1,\n",
       " '250': 1,\n",
       " 'gt': 1,\n",
       " 'coupé': 1,\n",
       " 'ferrari-badged': 1,\n",
       " '1947': 1,\n",
       " 'powered': 1,\n",
       " '1.5': 1,\n",
       " 'l': 1,\n",
       " 'reluctantly': 1,\n",
       " 'built': 1,\n",
       " 'sold': 1,\n",
       " 'automobiles': 2,\n",
       " 'fund': 1,\n",
       " '18': 1,\n",
       " 'resurrected': 1,\n",
       " 'denote': 1,\n",
       " 'distinguish': 1,\n",
       " 'customer': 1,\n",
       " 'teams': 1,\n",
       " '1960': 1,\n",
       " 'restructured': 1,\n",
       " 'public': 1,\n",
       " 'corporation': 1,\n",
       " 'sefac': 1,\n",
       " 's.p.a.': 2,\n",
       " 'società': 1,\n",
       " 'esercizio': 1,\n",
       " 'fabbriche': 1,\n",
       " 'automobili': 1,\n",
       " 'e': 1,\n",
       " '19': 2,\n",
       " '1969': 1,\n",
       " '50': 1,\n",
       " '%': 1,\n",
       " 'stake': 1,\n",
       " 'immediate': 1,\n",
       " 'result': 1,\n",
       " 'increase': 1,\n",
       " 'available': 1,\n",
       " 'investment': 2,\n",
       " 'funds': 1,\n",
       " 'started': 1,\n",
       " 'extension': 1,\n",
       " 'intended': 1,\n",
       " 'transfer': 1,\n",
       " 'turin': 1,\n",
       " 'plant': 1,\n",
       " 'engined': 1,\n",
       " 'range': 1,\n",
       " 'boost': 1,\n",
       " '1988': 1,\n",
       " 'oversaw': 1,\n",
       " 'launch': 1,\n",
       " 'f40': 2,\n",
       " 'last': 1,\n",
       " 'launched': 1,\n",
       " 'death': 1,\n",
       " 'year': 1,\n",
       " '1989': 1,\n",
       " 'renamed': 1,\n",
       " '2002': 1,\n",
       " '2004': 1,\n",
       " 'fastest': 1,\n",
       " 'time': 1,\n",
       " 'named': 1,\n",
       " 'honor': 1,\n",
       " 'founder': 1,\n",
       " 'called': 2,\n",
       " 'f60': 1,\n",
       " 'continuing': 1,\n",
       " 'f50': 1,\n",
       " 'pleased': 1,\n",
       " 'instead': 1,\n",
       " 'offered': 1,\n",
       " 'loyal': 1,\n",
       " 'recurring': 1,\n",
       " 'customers': 1,\n",
       " '399': 1,\n",
       " 'minus': 1,\n",
       " '400th': 1,\n",
       " 'donated': 1,\n",
       " 'vatican': 1,\n",
       " 'charity': 1,\n",
       " 'price': 1,\n",
       " 'tag': 1,\n",
       " '$': 2,\n",
       " '650,000': 1,\n",
       " 'apiece': 1,\n",
       " 'equivalent': 1,\n",
       " '£400,900': 1,\n",
       " '15': 1,\n",
       " '2012': 1,\n",
       " '964': 1,\n",
       " 'worth': 1,\n",
       " '162': 1,\n",
       " 'million': 2,\n",
       " '£99.95': 1,\n",
       " 'attended': 1,\n",
       " 'driving': 1,\n",
       " 'event': 1,\n",
       " 'silverstone': 2,\n",
       " 'circuit': 2,\n",
       " 'paraded': 1,\n",
       " 'round': 1,\n",
       " 'setting': 1,\n",
       " 'record': 1,\n",
       " '20': 1,\n",
       " 'former': 1,\n",
       " 'ceo': 3,\n",
       " 'chairman': 3,\n",
       " 'luca': 1,\n",
       " 'di': 1,\n",
       " 'montezemolo': 1,\n",
       " 'resigned': 2,\n",
       " '23': 1,\n",
       " 'succeeded': 2,\n",
       " 'amedeo': 2,\n",
       " 'felisa': 1,\n",
       " 'finally': 1,\n",
       " '3': 1,\n",
       " 'may': 1,\n",
       " '2016': 1,\n",
       " 'sergio': 1,\n",
       " 'marchionne': 2,\n",
       " 'chrysler': 1,\n",
       " 'parent': 1,\n",
       " '21': 1,\n",
       " 'july': 1,\n",
       " '2018': 1,\n",
       " 'replaced': 1,\n",
       " 'board': 1,\n",
       " 'member': 1,\n",
       " 'louis': 1,\n",
       " 'camilleri': 1,\n",
       " 'john': 1,\n",
       " 'elkann': 1}"
      ]
     },
     "execution_count": 7,
     "metadata": {},
     "output_type": "execute_result"
    }
   ],
   "source": [
    "freqTable = dict() # new dictionary for storing the frequency of words\n",
    "\n",
    "for word in words:\n",
    "    word=word.lower()\n",
    "    if word in stopwords:\n",
    "        continue\n",
    "    if word in freqTable:\n",
    "        freqTable[word]+=1\n",
    "    else:\n",
    "        freqTable[word]=1\n",
    "freqTable"
   ]
  },
  {
   "cell_type": "markdown",
   "id": "aa9f1b57",
   "metadata": {},
   "source": [
    "### Sentence tokenization"
   ]
  },
  {
   "cell_type": "code",
   "execution_count": 8,
   "id": "06e24649",
   "metadata": {},
   "outputs": [],
   "source": [
    "sentences=sent_tokenize(text) #sentence tokenization"
   ]
  },
  {
   "cell_type": "markdown",
   "id": "4a397660",
   "metadata": {},
   "source": [
    "Using term frequency method, each sentence is scored by it's words. Frequency of every non-stop word in a sentence."
   ]
  },
  {
   "cell_type": "code",
   "execution_count": 9,
   "id": "840a33e2",
   "metadata": {},
   "outputs": [
    {
     "name": "stdout",
     "output_type": "stream",
     "text": [
      "{'Enzo Ferrari was not initially interested in the idea of producing road cars when he formed Scuderia Ferrari in 1929, with headquarters in Modena.': 178, \"Scuderia Ferrari (pronounced [skude?ri?a]) literally means 'Ferrari Stable' and is usually used to mean 'Team Ferrari.'\": 141, 'Ferrari bought,[citation needed] prepared, and fielded Alfa Romeo racing cars for gentleman drivers, functioning as the racing division of Alfa Romeo.': 195, \"In 1933, Alfa Romeo withdrew its in-house racing team and Scuderia Ferrari took over as its works team:[1] the Scuderia received Alfa's Grand Prix cars of the latest specifications and fielded many famous drivers such as Tazio Nuvolari and Achille Varzi.\": 241, 'In 1938, Alfa Romeo brought its racing operation again in-house, forming Alfa Corse in Milan and hired Enzo Ferrari as manager of the new racing department; therefore the Scuderia Ferrari was disbanded.': 188, '[1] The first vehicle made with the Ferrari name was the 125 S. Only two of this small two-seat sports/racing V12 car were made.': 148, \"In 1949, the 166 Inter was introduced marking the company's significant move into the grand touring road car market.\": 137, 'The first 166 Inter was a four-seat (2+2) berlinetta coupe with body work designed by Carrozzeria Touring Superleggera.': 89, 'Road cars quickly became the bulk of Ferrari sales.': 105, 'The early Ferrari cars typically featured bodywork designed and customised by independent coachbuilders such as Pininfarina, Scaglietti, Zagato, Vignale and Bertone.': 159, 'The original road cars were typically two-seat front-engined V12s.': 86, 'This platform served Ferrari very well through the 1950s and 1960s.': 95, 'In 1968 the Dino was introduced as the first two-seat rear mid-engined Ferrari.': 110, 'The Dino was produced primarily with a V6 engine, however, a V8 model was also developed.': 112, 'This rear mid- engine layout would go on to be used in many Ferraris of the 1980s, 1990s and to the present day.': 151, \"Current road cars typically use V8 or V12 engines, with V8 models making up well over half of the marque's total production.\": 151, 'Historically, Ferrari has also produced flat 12 engines.': 146, 'In September 1939, Ferrari left Alfa Romeo under the provision he would not use the Ferrari name in association with races or racing cars for at least four years.': 188, '[1] A few days later he founded Auto Avio Costruzioni, headquartered in the facilities of the old Scuderia Ferrari.': 172, '[1] The new company ostensibly produced machine tools and aircraft accessories.': 92, 'In 1940, Ferrari produced a race car – the Tipo 815, based on a Fiat platform.': 157, 'It was the first Ferrari car and debuted at the 1940 Mille Miglia, but due to World War II it saw little competition.': 155, 'In 1943, the Ferrari factory moved to Maranello, where it has remained ever since.': 142, 'The factory was bombed by the Allies and subsequently rebuilt including works for road car production.': 69, '125 S replica  166 MM Touring Barchetta The first series produced Ferrari, the 1958 250 GT Coupé The first Ferrari-badged car was the 1947 125 S, powered by a 1.5 L V12 engine;[1] Enzo Ferrari reluctantly built and sold his automobiles to fund Scuderia Ferrari.': 226, '[18] The Scuderia Ferrari name was resurrected to denote the factory racing cars and distinguish them from those fielded by customer teams.': 159, 'In 1960 the company was restructured as a public corporation under the name SEFAC S.p.A. (Società Esercizio Fabbriche Automobili e Corse).': 85, '[19] Early in 1969, Fiat took a 50% stake in Ferrari.': 167, \"An immediate result was an increase in available investment funds, and work started at once on a factory extension intended to transfer production from Fiat's Turin plant of the Ferrari engined Fiat Dino.\": 169, 'New model investment further up in the Ferrari range also received a boost.': 94, 'In 1988, Enzo Ferrari oversaw the launch of the Ferrari F40, the last new Ferrari launched before his death later that year.': 153, \"In 1989, the company was renamed Ferrari S.p.A.[19] From 2002 to 2004, Ferrari produced the Enzo, their fastest model at the time, which was introduced and named in honor of the company's founder, Enzo Ferrari.\": 206, 'It was to be called the F60, continuing on from the F40 and F50, but Ferrari was so pleased with it, they called it the Enzo instead.': 140, 'It was initially offered to loyal and recurring customers, each of the 399 made (minus the 400th which was donated to the Vatican for charity) had a price tag of $650,000 apiece (equivalent to £400,900).': 123, 'On 15 September 2012, 964 Ferrari cars worth over $162 million (£99.95 million) attended the Ferrari Driving Days event at Silverstone Circuit and paraded round the Silverstone Circuit setting a world record.': 186, \"[20] Ferrari's former CEO and Chairman, Luca di Montezemolo, resigned from the company after 23 years, who was succeeded by Amedeo Felisa and finally on 3 May 2016 Amedeo resigned and was succeeded by Sergio Marchionne, CEO and Chairman of Fiat Chrysler Automobiles, Ferrari's parent company.\": 207, '[21] In July 2018, Marchionne was replaced by board member Louis Camilleri as CEO and by John Elkann as chairman.': 135}\n"
     ]
    }
   ],
   "source": [
    "sentenceValue=dict() #creating dictionay for sentence scores\n",
    "\n",
    "for sentence in sentences:\n",
    "    for word, freq in freqTable.items():\n",
    "        if word in sentence.lower():\n",
    "            if sentence in sentenceValue:\n",
    "                sentenceValue[sentence]+=freq\n",
    "            else:\n",
    "                sentenceValue[sentence]=freq\n",
    "print(sentenceValue)"
   ]
  },
  {
   "cell_type": "markdown",
   "id": "d14bc390",
   "metadata": {},
   "source": [
    "### Score calculation \n",
    "\n",
    "To compare the scores, average score of each sentence is calculated. "
   ]
  },
  {
   "cell_type": "code",
   "execution_count": 10,
   "id": "b97a9a4e",
   "metadata": {},
   "outputs": [
    {
     "data": {
      "text/plain": [
       "4995"
      ]
     },
     "execution_count": 10,
     "metadata": {},
     "output_type": "execute_result"
    }
   ],
   "source": [
    "sumValues=0\n",
    "for snetence in sentenceValue:\n",
    "    sumValues +=sentenceValue[sentence]\n",
    "sumValues"
   ]
  },
  {
   "cell_type": "code",
   "execution_count": 11,
   "id": "75f01921",
   "metadata": {},
   "outputs": [
    {
     "data": {
      "text/plain": [
       "135"
      ]
     },
     "execution_count": 11,
     "metadata": {},
     "output_type": "execute_result"
    }
   ],
   "source": [
    "average = int(sumValues/len(sentenceValue))\n",
    "average"
   ]
  },
  {
   "cell_type": "markdown",
   "id": "29e804a5",
   "metadata": {},
   "source": [
    "### Generating summary\n",
    "Generating summary using the scores as threshold."
   ]
  },
  {
   "cell_type": "code",
   "execution_count": 12,
   "id": "84993497",
   "metadata": {},
   "outputs": [
    {
     "name": "stdout",
     "output_type": "stream",
     "text": [
      "SUMMARIZED TEXT:\n",
      "  Enzo Ferrari was not initially interested in the idea of producing road cars when he formed Scuderia Ferrari in 1929, with headquarters in Modena. Ferrari bought,[citation needed] prepared, and fielded Alfa Romeo racing cars for gentleman drivers, functioning as the racing division of Alfa Romeo. In 1933, Alfa Romeo withdrew its in-house racing team and Scuderia Ferrari took over as its works team:[1] the Scuderia received Alfa's Grand Prix cars of the latest specifications and fielded many famous drivers such as Tazio Nuvolari and Achille Varzi. In 1938, Alfa Romeo brought its racing operation again in-house, forming Alfa Corse in Milan and hired Enzo Ferrari as manager of the new racing department; therefore the Scuderia Ferrari was disbanded. In September 1939, Ferrari left Alfa Romeo under the provision he would not use the Ferrari name in association with races or racing cars for at least four years. [1] A few days later he founded Auto Avio Costruzioni, headquartered in the facilities of the old Scuderia Ferrari. 125 S replica  166 MM Touring Barchetta The first series produced Ferrari, the 1958 250 GT Coupé The first Ferrari-badged car was the 1947 125 S, powered by a 1.5 L V12 engine;[1] Enzo Ferrari reluctantly built and sold his automobiles to fund Scuderia Ferrari. [19] Early in 1969, Fiat took a 50% stake in Ferrari. An immediate result was an increase in available investment funds, and work started at once on a factory extension intended to transfer production from Fiat's Turin plant of the Ferrari engined Fiat Dino. In 1989, the company was renamed Ferrari S.p.A.[19] From 2002 to 2004, Ferrari produced the Enzo, their fastest model at the time, which was introduced and named in honor of the company's founder, Enzo Ferrari. On 15 September 2012, 964 Ferrari cars worth over $162 million (£99.95 million) attended the Ferrari Driving Days event at Silverstone Circuit and paraded round the Silverstone Circuit setting a world record. [20] Ferrari's former CEO and Chairman, Luca di Montezemolo, resigned from the company after 23 years, who was succeeded by Amedeo Felisa and finally on 3 May 2016 Amedeo resigned and was succeeded by Sergio Marchionne, CEO and Chairman of Fiat Chrysler Automobiles, Ferrari's parent company.\n"
     ]
    }
   ],
   "source": [
    "summary=''\n",
    "for sentence in sentences:\n",
    "    if(sentence in sentenceValue) and (sentenceValue[sentence] > (1.2 * average)):\n",
    "        summary += \" \"+ sentence\n",
    "print(\"SUMMARIZED TEXT:\\n\",summary)"
   ]
  },
  {
   "cell_type": "code",
   "execution_count": 13,
   "id": "6e016260",
   "metadata": {},
   "outputs": [
    {
     "name": "stdout",
     "output_type": "stream",
     "text": [
      "The length of the original text is  5010\n",
      "The length of the summarized text is 2269\n"
     ]
    }
   ],
   "source": [
    "print(\"The length of the original text is \",len(text_original))\n",
    "print(\"The length of the summarized text is\",len(summary))"
   ]
  },
  {
   "cell_type": "markdown",
   "id": "43c79392",
   "metadata": {},
   "source": [
    "## Summarization using TF-IDF\n",
    "\n",
    "Steps:\n",
    "1. Implement TF-IDF vectorizer.\n",
    "2. Create a dataframe of the vectorized array using x.toarray()\n",
    "3. Calculate sentence weights.\n",
    "4. Append the weights in the dataframe and sort the dataframe as per the weights.\n",
    "5. Set threshold.\n",
    "6. Generate summary based on scores.\n"
   ]
  },
  {
   "cell_type": "code",
   "execution_count": 14,
   "id": "c5207c28",
   "metadata": {},
   "outputs": [],
   "source": [
    "vector=TfidfVectorizer() #vectorization\n",
    "x=vector.fit_transform(sentences)"
   ]
  },
  {
   "cell_type": "code",
   "execution_count": 15,
   "id": "d6f8e54a",
   "metadata": {},
   "outputs": [
    {
     "data": {
      "text/html": [
       "<div>\n",
       "<style scoped>\n",
       "    .dataframe tbody tr th:only-of-type {\n",
       "        vertical-align: middle;\n",
       "    }\n",
       "\n",
       "    .dataframe tbody tr th {\n",
       "        vertical-align: top;\n",
       "    }\n",
       "\n",
       "    .dataframe thead th {\n",
       "        text-align: right;\n",
       "    }\n",
       "</style>\n",
       "<table border=\"1\" class=\"dataframe\">\n",
       "  <thead>\n",
       "    <tr style=\"text-align: right;\">\n",
       "      <th></th>\n",
       "      <th>Sentence_weights</th>\n",
       "    </tr>\n",
       "  </thead>\n",
       "  <tbody>\n",
       "    <tr>\n",
       "      <th>125 S replica  166 MM Touring Barchetta The first series produced Ferrari, the 1958 250 GT Coupé The first Ferrari-badged car was the 1947 125 S, powered by a 1.5 L V12 engine;[1] Enzo Ferrari reluctantly built and sold his automobiles to fund Scuderia Ferrari.</th>\n",
       "      <td>0.014229</td>\n",
       "    </tr>\n",
       "    <tr>\n",
       "      <th>In 1933, Alfa Romeo withdrew its in-house racing team and Scuderia Ferrari took over as its works team:[1] the Scuderia received Alfa's Grand Prix cars of the latest specifications and fielded many famous drivers such as Tazio Nuvolari and Achille Varzi.</th>\n",
       "      <td>0.014111</td>\n",
       "    </tr>\n",
       "    <tr>\n",
       "      <th>It was initially offered to loyal and recurring customers, each of the 399 made (minus the 400th which was donated to the Vatican for charity) had a price tag of $650,000 apiece (equivalent to £400,900).</th>\n",
       "      <td>0.013875</td>\n",
       "    </tr>\n",
       "    <tr>\n",
       "      <th>[20] Ferrari's former CEO and Chairman, Luca di Montezemolo, resigned from the company after 23 years, who was succeeded by Amedeo Felisa and finally on 3 May 2016 Amedeo resigned and was succeeded by Sergio Marchionne, CEO and Chairman of Fiat Chrysler Automobiles, Ferrari's parent company.</th>\n",
       "      <td>0.013821</td>\n",
       "    </tr>\n",
       "    <tr>\n",
       "      <th>An immediate result was an increase in available investment funds, and work started at once on a factory extension intended to transfer production from Fiat's Turin plant of the Ferrari engined Fiat Dino.</th>\n",
       "      <td>0.013121</td>\n",
       "    </tr>\n",
       "    <tr>\n",
       "      <th>In September 1939, Ferrari left Alfa Romeo under the provision he would not use the Ferrari name in association with races or racing cars for at least four years.</th>\n",
       "      <td>0.012982</td>\n",
       "    </tr>\n",
       "    <tr>\n",
       "      <th>In 1938, Alfa Romeo brought its racing operation again in-house, forming Alfa Corse in Milan and hired Enzo Ferrari as manager of the new racing department; therefore the Scuderia Ferrari was disbanded.</th>\n",
       "      <td>0.012832</td>\n",
       "    </tr>\n",
       "    <tr>\n",
       "      <th>In 1989, the company was renamed Ferrari S.p.A.[19] From 2002 to 2004, Ferrari produced the Enzo, their fastest model at the time, which was introduced and named in honor of the company's founder, Enzo Ferrari.</th>\n",
       "      <td>0.012762</td>\n",
       "    </tr>\n",
       "    <tr>\n",
       "      <th>On 15 September 2012, 964 Ferrari cars worth over $162 million (£99.95 million) attended the Ferrari Driving Days event at Silverstone Circuit and paraded round the Silverstone Circuit setting a world record.</th>\n",
       "      <td>0.012495</td>\n",
       "    </tr>\n",
       "    <tr>\n",
       "      <th>This rear mid- engine layout would go on to be used in many Ferraris of the 1980s, 1990s and to the present day.</th>\n",
       "      <td>0.011491</td>\n",
       "    </tr>\n",
       "    <tr>\n",
       "      <th>[18] The Scuderia Ferrari name was resurrected to denote the factory racing cars and distinguish them from those fielded by customer teams.</th>\n",
       "      <td>0.011345</td>\n",
       "    </tr>\n",
       "    <tr>\n",
       "      <th>Enzo Ferrari was not initially interested in the idea of producing road cars when he formed Scuderia Ferrari in 1929, with headquarters in Modena.</th>\n",
       "      <td>0.011308</td>\n",
       "    </tr>\n",
       "    <tr>\n",
       "      <th>It was the first Ferrari car and debuted at the 1940 Mille Miglia, but due to World War II it saw little competition.</th>\n",
       "      <td>0.011248</td>\n",
       "    </tr>\n",
       "    <tr>\n",
       "      <th>Current road cars typically use V8 or V12 engines, with V8 models making up well over half of the marque's total production.</th>\n",
       "      <td>0.011245</td>\n",
       "    </tr>\n",
       "    <tr>\n",
       "      <th>The early Ferrari cars typically featured bodywork designed and customised by independent coachbuilders such as Pininfarina, Scaglietti, Zagato, Vignale and Bertone.</th>\n",
       "      <td>0.011149</td>\n",
       "    </tr>\n",
       "  </tbody>\n",
       "</table>\n",
       "</div>"
      ],
      "text/plain": [
       "                                                    Sentence_weights\n",
       "125 S replica  166 MM Touring Barchetta The fir...          0.014229\n",
       "In 1933, Alfa Romeo withdrew its in-house racin...          0.014111\n",
       "It was initially offered to loyal and recurring...          0.013875\n",
       "[20] Ferrari's former CEO and Chairman, Luca di...          0.013821\n",
       "An immediate result was an increase in availabl...          0.013121\n",
       "In September 1939, Ferrari left Alfa Romeo unde...          0.012982\n",
       "In 1938, Alfa Romeo brought its racing operatio...          0.012832\n",
       "In 1989, the company was renamed Ferrari S.p.A....          0.012762\n",
       "On 15 September 2012, 964 Ferrari cars worth ov...          0.012495\n",
       "This rear mid- engine layout would go on to be ...          0.011491\n",
       "[18] The Scuderia Ferrari name was resurrected ...          0.011345\n",
       "Enzo Ferrari was not initially interested in th...          0.011308\n",
       "It was the first Ferrari car and debuted at the...          0.011248\n",
       "Current road cars typically use V8 or V12 engin...          0.011245\n",
       "The early Ferrari cars typically featured bodyw...          0.011149"
      ]
     },
     "execution_count": 15,
     "metadata": {},
     "output_type": "execute_result"
    }
   ],
   "source": [
    "import pandas as pd\n",
    "data=pd.DataFrame(x.toarray(),index=sentences) #dataframe\n",
    "\n",
    "data[\"Sentence_weights\"]=(data.sum(axis=1))/len(data.columns) #weights\n",
    "finaldf = data.sort_values(by = 'Sentence_weights',ascending=False)\n",
    "finaldf[[\"Sentence_weights\"]]\n",
    "\n",
    "finaldf = finaldf.drop(finaldf[finaldf.Sentence_weights < 0.011].index) #threshold\n",
    "finaldf[[\"Sentence_weights\"]]"
   ]
  },
  {
   "cell_type": "code",
   "execution_count": 16,
   "id": "c0b84aaf",
   "metadata": {},
   "outputs": [
    {
     "name": "stdout",
     "output_type": "stream",
     "text": [
      " 125 S replica  166 MM Touring Barchetta The first series produced Ferrari, the 1958 250 GT Coupé The first Ferrari-badged car was the 1947 125 S, powered by a 1.5 L V12 engine;[1] Enzo Ferrari reluctantly built and sold his automobiles to fund Scuderia Ferrari. In 1933, Alfa Romeo withdrew its in-house racing team and Scuderia Ferrari took over as its works team:[1] the Scuderia received Alfa's Grand Prix cars of the latest specifications and fielded many famous drivers such as Tazio Nuvolari and Achille Varzi. It was initially offered to loyal and recurring customers, each of the 399 made (minus the 400th which was donated to the Vatican for charity) had a price tag of $650,000 apiece (equivalent to £400,900). [20] Ferrari's former CEO and Chairman, Luca di Montezemolo, resigned from the company after 23 years, who was succeeded by Amedeo Felisa and finally on 3 May 2016 Amedeo resigned and was succeeded by Sergio Marchionne, CEO and Chairman of Fiat Chrysler Automobiles, Ferrari's parent company. An immediate result was an increase in available investment funds, and work started at once on a factory extension intended to transfer production from Fiat's Turin plant of the Ferrari engined Fiat Dino. In September 1939, Ferrari left Alfa Romeo under the provision he would not use the Ferrari name in association with races or racing cars for at least four years. In 1938, Alfa Romeo brought its racing operation again in-house, forming Alfa Corse in Milan and hired Enzo Ferrari as manager of the new racing department; therefore the Scuderia Ferrari was disbanded. In 1989, the company was renamed Ferrari S.p.A.[19] From 2002 to 2004, Ferrari produced the Enzo, their fastest model at the time, which was introduced and named in honor of the company's founder, Enzo Ferrari. On 15 September 2012, 964 Ferrari cars worth over $162 million (£99.95 million) attended the Ferrari Driving Days event at Silverstone Circuit and paraded round the Silverstone Circuit setting a world record. This rear mid- engine layout would go on to be used in many Ferraris of the 1980s, 1990s and to the present day. [18] The Scuderia Ferrari name was resurrected to denote the factory racing cars and distinguish them from those fielded by customer teams. Enzo Ferrari was not initially interested in the idea of producing road cars when he formed Scuderia Ferrari in 1929, with headquarters in Modena. It was the first Ferrari car and debuted at the 1940 Mille Miglia, but due to World War II it saw little competition. Current road cars typically use V8 or V12 engines, with V8 models making up well over half of the marque's total production. The early Ferrari cars typically featured bodywork designed and customised by independent coachbuilders such as Pininfarina, Scaglietti, Zagato, Vignale and Bertone.\n"
     ]
    }
   ],
   "source": [
    "summary_tfidf=\"\"\n",
    "\n",
    "for i in finaldf.index:\n",
    "    summary_tfidf+=\" \"+i\n",
    "\n",
    "print(summary_tfidf) #summary"
   ]
  },
  {
   "cell_type": "code",
   "execution_count": 17,
   "id": "6a137f6e",
   "metadata": {},
   "outputs": [
    {
     "name": "stdout",
     "output_type": "stream",
     "text": [
      "The length of the original text is  5010\n",
      "The length of the summarized text is 2814\n"
     ]
    }
   ],
   "source": [
    "print(\"The length of the original text is \",len(text_original))\n",
    "print(\"The length of the summarized text is\",len(summary_tfidf))"
   ]
  },
  {
   "cell_type": "markdown",
   "id": "f8ecc8f7",
   "metadata": {},
   "source": [
    "----"
   ]
  }
 ],
 "metadata": {
  "kernelspec": {
   "display_name": "Python 3 (ipykernel)",
   "language": "python",
   "name": "python3"
  },
  "language_info": {
   "codemirror_mode": {
    "name": "ipython",
    "version": 3
   },
   "file_extension": ".py",
   "mimetype": "text/x-python",
   "name": "python",
   "nbconvert_exporter": "python",
   "pygments_lexer": "ipython3",
   "version": "3.9.7"
  }
 },
 "nbformat": 4,
 "nbformat_minor": 5
}
