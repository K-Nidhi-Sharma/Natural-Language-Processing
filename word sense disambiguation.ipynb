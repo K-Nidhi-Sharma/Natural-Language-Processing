{
 "cells": [
  {
   "cell_type": "markdown",
   "id": "b2daf30a",
   "metadata": {},
   "source": [
    "# <center> NATURAL LANGUAGE PREOCESSING </center>\n",
    "## <center> Word Sense Disambiguation </center>\n",
    "### <Center> K Nidhi Sharma, 2148041 </center>"
   ]
  },
  {
   "cell_type": "markdown",
   "id": "bbe05415",
   "metadata": {},
   "source": [
    "### Introduction\n",
    "\n",
    " Word sense disambiguation (WSD) is the ability to identify the meaning of words in context in a computational manner. It is a trending area of research in Natural Language Processing and Machine Learning. WSD is basically solution to the ambiguity which arises due to different meaning of words in different context. \n",
    "For example, consider the following sentences:\n",
    "\n",
    "    •\tI need to pass the bar exam to become a lawyer\n",
    "\n",
    "    •\tI am going to eat the energy bar every morning. \n",
    "\n",
    "The word bar in the first sentence refers to the bar council of India and in the second sentence, it refers to an eating item. The ambiguity that arises due to this, is tough for a machine to detect and resolve. Detection of ambiguity is the first issue and resolving it and displaying the correct output is the second issue.\n"
   ]
  },
  {
   "cell_type": "markdown",
   "id": "128fb629",
   "metadata": {},
   "source": [
    "### About the data \n",
    "\n",
    "The ambiguous word chosen for the study is bar.  Bar is considered to be an ambiguous word as it has nineteen different meaning. The two contextual meaning considered for the study is the bar council of India and an energy bar. To implement WSD, two data files are used and a user input query. \n",
    "\n",
    "    •\tBarcouncil.txt: this text file has the data for the bar council of India. The Bar Council of India is a statutory body created by Parliament to regulate and represent the Indian bar. The file format of the data is text and the length of the data is 1010 words. \n",
    "\n",
    "    •\tEnergybar.txt: this text file has the data explaining an energy bar. Energy bar is a supplement food which is a great source of energy. It is an eating item. The file format of the data is text and the length of the data is 1000 words. Nutrients  \n",
    "\n"
   ]
  },
  {
   "cell_type": "markdown",
   "id": "a2ef3795",
   "metadata": {},
   "source": [
    "### Importing libraries"
   ]
  },
  {
   "cell_type": "code",
   "execution_count": 1,
   "id": "1ae7fc96",
   "metadata": {},
   "outputs": [],
   "source": [
    "import nltk\n",
    "import codecs\n",
    "from nltk.tokenize import PunktSentenceTokenizer,sent_tokenize, word_tokenize\n",
    "from nltk.corpus import stopwords, wordnet\n",
    "from nltk.stem import WordNetLemmatizer, PorterStemmer"
   ]
  },
  {
   "cell_type": "markdown",
   "id": "5f32179d",
   "metadata": {},
   "source": [
    "### Stop words removal and lemmatization\n",
    "\n",
    "Stopwords removal: Stopwords are the high frequency words in a language which do not contribute much to the topic of the sentence. Hence, a function is defined to remove it.\n",
    "\n",
    "Lemmatization: the defined function implements lemmatization. Lemmatization () refers to deriving the root word which is morphologically correct.\n"
   ]
  },
  {
   "cell_type": "code",
   "execution_count": 2,
   "id": "fe518f74",
   "metadata": {},
   "outputs": [],
   "source": [
    "def simpleFilter(sentence):\n",
    "    \n",
    "    filtered_sent = [] #empty list to store the cleaned sentence\n",
    "    \n",
    "    lemmatizer = WordNetLemmatizer() #lemmatization\n",
    "    \n",
    "    stop_words = set(stopwords.words(\"english\")) #stopwords\n",
    "    \n",
    "    words = word_tokenize(sentence) #tokenizing the sentence\n",
    "\n",
    "    for w in words: #if the words are in the tokenized list, then\n",
    "       \n",
    "        if w not in stop_words: #if the sentence words are not in the stop words list, then\n",
    "            \n",
    "            filtered_sent.append(lemmatizer.lemmatize(w)) #do lemmatization\n",
    "\n",
    "    return filtered_sent #returning the clean sentence"
   ]
  },
  {
   "cell_type": "markdown",
   "id": "0673bdc8",
   "metadata": {},
   "source": [
    "### Similarity check\n",
    "\n",
    "Similarity is checked between the given query/sentence tokens and the training data set tokens. To implement this, synsets from wordnet is employed. The depth and closeness of a word is calculated and returned on scale of 0–1. To get accurate results in for the similarity check, large volume of data is required. "
   ]
  },
  {
   "cell_type": "code",
   "execution_count": 3,
   "id": "eb7b749d",
   "metadata": {},
   "outputs": [],
   "source": [
    "def simlilarityCheck(word1, word2):\n",
    "\n",
    "    word1 = word1 + \".n.01\"\n",
    "    word2 = word2 + \".n.01\"\n",
    "    try:\n",
    "        w1 = wordnet.synset(word1) \n",
    "        w2 = wordnet.synset(word2)\n",
    "\n",
    "        return w1.wup_similarity(w2)\n",
    "\n",
    "    except:\n",
    "        return 0"
   ]
  },
  {
   "cell_type": "markdown",
   "id": "a2cd4dc6",
   "metadata": {},
   "source": [
    "### Synonyms creator\n",
    "\n",
    "synonymsCreator is a simplistic function to store the synonyms of the given input word."
   ]
  },
  {
   "cell_type": "code",
   "execution_count": 4,
   "id": "16331927",
   "metadata": {},
   "outputs": [],
   "source": [
    "def synonymsCreator(word):\n",
    "    synonyms = []\n",
    "\n",
    "    for syn in wordnet.synsets(word):\n",
    "        for i in syn.lemmas():\n",
    "            synonyms.append(i.name())\n",
    "\n",
    "    return synonyms"
   ]
  },
  {
   "cell_type": "markdown",
   "id": "24dd4a65",
   "metadata": {},
   "source": [
    "### Filtered Sentences"
   ]
  },
  {
   "cell_type": "code",
   "execution_count": 5,
   "id": "19bd360c",
   "metadata": {},
   "outputs": [],
   "source": [
    "# Remove Stop Words . Word Stemming . Return new tokenised list.\n",
    "def filteredSentence(sentence):\n",
    "\n",
    "    filtered_sent = []\n",
    "    lemmatizer = WordNetLemmatizer()   #lemmatizes the words\n",
    "    ps = PorterStemmer()    #stemmer stems the root of the word.\n",
    "\n",
    "    stop_words = set(stopwords.words(\"english\"))\n",
    "    words = word_tokenize(sentence)\n",
    "\n",
    "    for w in words:\n",
    "            if w not in stop_words:\n",
    "                    filtered_sent.append(lemmatizer.lemmatize(ps.stem(w)))\n",
    "                    for i in synonymsCreator(w):\n",
    "                        filtered_sent.append(i)\n",
    "    return filtered_sent"
   ]
  },
  {
   "cell_type": "markdown",
   "id": "f9c97061",
   "metadata": {},
   "source": [
    "### Disambiguation\n",
    "\n",
    "Once all the functions are defined, is, the application is fed with two data set files, first barcouncil.txt, which contains few sentences referring to “bar” used in the bar council of India, and second, energybar.txt, which contains few sentences referring to the energy bar. \n",
    "\n",
    "sent1 stores the lowered case string data from the energybar.txt file and sent2 does for barcouncil.txt, sent3 stores user query. Next, the sentences are filtered and similarity is checked using the functions explained above. The comparison is normalised, and output is given accordingly whether the query refers to bar council or to the energy bar.\n"
   ]
  },
  {
   "cell_type": "code",
   "execution_count": 6,
   "id": "0cef15df",
   "metadata": {},
   "outputs": [
    {
     "name": "stdout",
     "output_type": "stream",
     "text": [
      "Enter Query: energy bar is a supplement food I usually prefer while working out in the gym or while jogging because it has all the required nutrients that boosts ups the energy. Hence, i recommend these bars.\n",
      "---- Energy bar ----\n",
      "Enter Query: The bar council of India holds a very high position in the India law. It has the power to certify a person as an advocate if they pass the bar exam. This council is considered to a rigid council in India. Hence, to pass bar is an achievement. \n",
      "---- Bar council ----\n",
      "Enter Query: end\n",
      "---- Energy bar ----\n",
      "\n",
      "TERMINATED\n"
     ]
    }
   ],
   "source": [
    "def simpleFilter(sentence):\n",
    "\n",
    "    filtered_sent = []\n",
    "    lemmatizer = WordNetLemmatizer()\n",
    "    stop_words = set(stopwords.words(\"english\"))\n",
    "    words = word_tokenize(sentence)\n",
    "\n",
    "    for w in words:\n",
    "        if w not in stop_words:\n",
    "            filtered_sent.append(lemmatizer.lemmatize(w))\n",
    "    return filtered_sent\n",
    "\n",
    "\n",
    "if __name__ == '__main__':\n",
    "    \n",
    "    \n",
    "    barcouncilfile = open(\"barcouncil.txt\",\"r\",encoding='utf-8').read()\n",
    "    sent2 = barcouncilfile.lower()\n",
    "    \n",
    "  \n",
    "    energybarfile = open(\"energybar.txt\", 'r', encoding='utf-8').read()\n",
    "    sent1 = energybarfile.lower()\n",
    "    sent3 = \"start\"\n",
    "\n",
    "\n",
    "    while(sent3 != \"end\"):\n",
    "\n",
    "        sent3 = input(\"Enter Query: \").lower()\n",
    "\n",
    "        filtered_sent1 = []\n",
    "        filtered_sent2 = []\n",
    "        filtered_sent3 = []\n",
    "\n",
    "        counter1 = 0\n",
    "        counter2 = 0\n",
    "        sent31_similarity = 0\n",
    "        sent32_similarity = 0\n",
    "\n",
    "        filtered_sent1 = simpleFilter(sent1)\n",
    "        filtered_sent2 = simpleFilter(sent2)\n",
    "        filtered_sent3 = simpleFilter(sent3)\n",
    "\n",
    "        for i in filtered_sent3:\n",
    "\n",
    "            for j in filtered_sent1:\n",
    "                counter1 = counter1 + 1\n",
    "                sent31_similarity = sent31_similarity + simlilarityCheck(i, j)\n",
    "\n",
    "            for j in filtered_sent2:\n",
    "                counter2 = counter2 + 1\n",
    "                sent32_similarity = sent32_similarity + simlilarityCheck(i, j)\n",
    "\n",
    "        filtered_sent1 = []\n",
    "        filtered_sent2 = []\n",
    "        filtered_sent3 = []\n",
    "\n",
    "        filtered_sent1 = filteredSentence(sent1)\n",
    "        filtered_sent2 = filteredSentence(sent2)\n",
    "        filtered_sent3 = filteredSentence(sent3)\n",
    "\n",
    "        sent1_count = 0\n",
    "        sent2_count = 0\n",
    "\n",
    "        for i in filtered_sent3:\n",
    "\n",
    "            for j in filtered_sent1:\n",
    "\n",
    "                if(i == j):\n",
    "                    sent1_count = sent1_count + 1\n",
    "\n",
    "            for j in filtered_sent2:\n",
    "                if(i == j):\n",
    "                    sent2_count = sent2_count + 1\n",
    "\n",
    "        if((sent1_count + sent31_similarity) > (sent2_count+sent32_similarity)):\n",
    "            print(\"---- Energy bar ----\")\n",
    "        else:\n",
    "            print(\"---- Bar council ----\")\n",
    "\n",
    "    print (\"\\nTERMINATED\")"
   ]
  },
  {
   "cell_type": "markdown",
   "id": "8383748c",
   "metadata": {},
   "source": [
    "### Inference\n",
    "\n",
    "As to check if both the data are trained, query related to both the context has been passed. Lengthy queries help in testing the accuracy of this application. \n",
    "\n",
    "    •\tQuery 1: energy bar is a supplement food I usually prefer while working out in the gym or while jogging because it has all the required nutrients that boosts ups the energy. Hence, i recommend these bars.  The query is WRT energy bar. \n",
    "\n",
    "    •\tQuery 2: The bar council of India holds a very high position in the India law. It has the power to certify a person as an advocate if they pass the bar exam. This council is considered to a rigid council in India. Hence, to pass bar is an achievement. The query is WRT the bar council. \n",
    "    \n",
    "   **The results were accurate as it was able to distinguish between the respective bars.**\n"
   ]
  },
  {
   "cell_type": "markdown",
   "id": "7027862b",
   "metadata": {},
   "source": [
    "### Reference\n",
    "\n",
    "https://towardsdatascience.com/a-simple-word-sense-disambiguation-application-3ca645c56357"
   ]
  }
 ],
 "metadata": {
  "kernelspec": {
   "display_name": "Python 3 (ipykernel)",
   "language": "python",
   "name": "python3"
  },
  "language_info": {
   "codemirror_mode": {
    "name": "ipython",
    "version": 3
   },
   "file_extension": ".py",
   "mimetype": "text/x-python",
   "name": "python",
   "nbconvert_exporter": "python",
   "pygments_lexer": "ipython3",
   "version": "3.9.7"
  }
 },
 "nbformat": 4,
 "nbformat_minor": 5
}
