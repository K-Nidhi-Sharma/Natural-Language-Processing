{
 "cells": [
  {
   "cell_type": "markdown",
   "id": "1025353a",
   "metadata": {},
   "source": [
    "# <center> NATURAL LANGUAGE PROCESSING LAB - 01 </center>\n",
    "## <center> K Nidhi Sharma, 2148041 </center>\n",
    "#### <center> 21/07/22 </center>"
   ]
  },
  {
   "cell_type": "markdown",
   "id": "092c017d",
   "metadata": {},
   "source": [
    "Data: Copy the eligibility criteria for MSc Data Science, MCA, MSc Data Analytics and MSc statistics\n",
    "programs of CHRIST University from the university website as different txt documents. Perform the\n",
    "following tasks using regular expression and python\n",
    "\n",
    "1. Create a dataframe which contains name of the program and list of UG degrees eligible. BSc in maths major should be mentioned as BSc(Maths), Statistics major as BSc(Stats) and so on.\n",
    "\n",
    "2. Change/ add the minimum percentage criteria to 70% in all the txt files"
   ]
  },
  {
   "cell_type": "markdown",
   "id": "2ce441ab",
   "metadata": {},
   "source": [
    "### Importing the regular expression package"
   ]
  },
  {
   "cell_type": "code",
   "execution_count": 1,
   "id": "0d6f5235",
   "metadata": {},
   "outputs": [],
   "source": [
    "import regex as re"
   ]
  },
  {
   "cell_type": "markdown",
   "id": "172699b5",
   "metadata": {},
   "source": [
    "### Reading the text data"
   ]
  },
  {
   "cell_type": "code",
   "execution_count": 2,
   "id": "b2fc8a75",
   "metadata": {},
   "outputs": [
    {
     "name": "stdout",
     "output_type": "stream",
     "text": [
      "A candidate who has passed an Undergraduate degree in BCA/Science with 50 % aggregate marks from any recognised University in India or abroad recognised by UGC / AIU is eligible to apply.Students must fulfill either criteria A or B described below in order to be eligible for the course: A. Bachelor of Computer Applications (BCA). OR B. Under Graduate degree in Science with any two of the following subjects as major or minor: 1.    Computer Science 2.    Mathematics 3.    Statistics\n",
      "Students appearing for their final degree examinations in March-May 2022 are also eligible to apply. Applicants who are in the last year of their studies should have secured 50% or above aggregate in all the Semesters / Years of Undergraduate Examinations conducted so far.\n"
     ]
    }
   ],
   "source": [
    "MDS=open('E:\\\\PG_sem3\\\\nlp\\\\ds.txt').read() #reading the eligibility criteria for MSc Data Science\n",
    "print(MDS)"
   ]
  },
  {
   "cell_type": "code",
   "execution_count": 3,
   "id": "13d635ea",
   "metadata": {},
   "outputs": [
    {
     "name": "stdout",
     "output_type": "stream",
     "text": [
      "Candidates who have passed Undergraduate degree with a minimum aggregate of 50% and above, from any recognised University in India or abroad recognised by UGC / AIU, are eligible to apply.\n",
      "\n",
      "Students appearing for their final degree examinations in March-May 2022 are also eligible to apply (Applicants who are in the last year of their studies should have secured 50% or above aggregate in all the Semesters / Years of Undergraduate Examinations conducted so far).\n",
      "\n",
      "Applicants from non-Computer Science should have studied any of the following subjects at the Pre- University or Degree level â€“ Mathematics, Computer Science or Business Mathematics.\n"
     ]
    }
   ],
   "source": [
    "MCA=open('E:\\\\PG_sem3\\\\nlp\\\\mca.txt').read() #reading the eligibility criteria for MCA\n",
    "print(MCA)"
   ]
  },
  {
   "cell_type": "code",
   "execution_count": 4,
   "id": "4db81ef9",
   "metadata": {},
   "outputs": [
    {
     "name": "stdout",
     "output_type": "stream",
     "text": [
      "Candidates having 50% aggregate marks from any recognised University in India or abroad recognised by UGC / AIU in any of the following programmes are eligible:\n",
      "\n",
      "(i)    BSc / BE / B.Tech with Mathematics as a major or minor\n",
      "\n",
      "(ii)  BCom / BBA with Business Maths or Data Analytics as Specialization\n"
     ]
    }
   ],
   "source": [
    "DA=open('E:\\\\PG_sem3\\\\nlp\\\\da.txt').read() #reading the eligibility criteria for Data Analtics\n",
    "print(DA)"
   ]
  },
  {
   "cell_type": "code",
   "execution_count": 5,
   "id": "7ce509d2",
   "metadata": {},
   "outputs": [
    {
     "name": "stdout",
     "output_type": "stream",
     "text": [
      "Candidates who have passed the Undergraduate degree examination with 50 % aggregate marks and (minimum of 50% in Statistics and Mathematics as major or minor subjects) from any recognised University in India or abroad recognised by UGC / AIU are eligible to apply.\n",
      " \n",
      "Students appearing for their final degree examinations in March-May 2022 are also eligible to apply. Applicants who are in the last year of their studies should have secured 50% or above aggregate in all the Semesters / Years of Undergraduate Examinations conducted so far and 50% of marks in (Statistics and Mathematics as major or minor subjects).\n"
     ]
    }
   ],
   "source": [
    "STAT=open('E:\\\\PG_sem3\\\\nlp\\\\stat.txt').read() #reading the eligibility criteria for MSc Statistics\n",
    "print(STAT)"
   ]
  },
  {
   "cell_type": "markdown",
   "id": "ef1eeebf",
   "metadata": {},
   "source": [
    "### Pre-Processing MDS text file"
   ]
  },
  {
   "cell_type": "markdown",
   "id": "5b2f0e67",
   "metadata": {},
   "source": [
    "1. Lower case"
   ]
  },
  {
   "cell_type": "code",
   "execution_count": 6,
   "id": "cfa6ee69",
   "metadata": {},
   "outputs": [
    {
     "name": "stdout",
     "output_type": "stream",
     "text": [
      "a candidate who has passed an undergraduate degree in bca/science with 50 % aggregate marks from any recognised university in india or abroad recognised by ugc / aiu is eligible to apply.students must fulfill either criteria a or b described below in order to be eligible for the course: a. bachelor of computer applications (bca). or b. under graduate degree in science with any two of the following subjects as major or minor: 1.    computer science 2.    mathematics 3.    statistics\n",
      "students appearing for their final degree examinations in march-may 2022 are also eligible to apply. applicants who are in the last year of their studies should have secured 50% or above aggregate in all the semesters / years of undergraduate examinations conducted so far.\n"
     ]
    }
   ],
   "source": [
    "mds=MDS.lower()\n",
    "print(mds)"
   ]
  },
  {
   "cell_type": "markdown",
   "id": "3f25b418",
   "metadata": {},
   "source": [
    "2. Removing punctuation"
   ]
  },
  {
   "cell_type": "code",
   "execution_count": 7,
   "id": "086f452b",
   "metadata": {},
   "outputs": [],
   "source": [
    "punc = '''!()[]{};:'\"\\<>?@#$^&*_~'''"
   ]
  },
  {
   "cell_type": "code",
   "execution_count": 8,
   "id": "5fcd3844",
   "metadata": {},
   "outputs": [
    {
     "name": "stdout",
     "output_type": "stream",
     "text": [
      "a candidate who has passed an undergraduate degree in bca/science with 50 % aggregate marks from any recognised university in india or abroad recognised by ugc / aiu is eligible to apply.students must fulfill either criteria a or b described below in order to be eligible for the course a. bachelor of computer applications bca. or b. under graduate degree in science with any two of the following subjects as major or minor 1.    computer science 2.    mathematics 3.    statistics\n",
      "students appearing for their final degree examinations in march-may 2022 are also eligible to apply. applicants who are in the last year of their studies should have secured 50% or above aggregate in all the semesters / years of undergraduate examinations conducted so far.\n"
     ]
    }
   ],
   "source": [
    "for ele in mds:\n",
    "    if ele in punc:\n",
    "        mds = mds.replace(ele, \"\")\n",
    "print(mds)"
   ]
  },
  {
   "cell_type": "markdown",
   "id": "6450eb4b",
   "metadata": {},
   "source": [
    "3. removing newline - '\\n'"
   ]
  },
  {
   "cell_type": "code",
   "execution_count": 9,
   "id": "33a241df",
   "metadata": {},
   "outputs": [
    {
     "data": {
      "text/plain": [
       "'a candidate who has passed an undergraduate degree in bca/science with 50 % aggregate marks from any recognised university in india or abroad recognised by ugc / aiu is eligible to apply.students must fulfill either criteria a or b described below in order to be eligible for the course a. bachelor of computer applications bca. or b. under graduate degree in science with any two of the following subjects as major or minor 1.    computer science 2.    mathematics 3.    statistics students appearing for their final degree examinations in march-may 2022 are also eligible to apply. applicants who are in the last year of their studies should have secured 50% or above aggregate in all the semesters / years of undergraduate examinations conducted so far.'"
      ]
     },
     "execution_count": 9,
     "metadata": {},
     "output_type": "execute_result"
    }
   ],
   "source": [
    "mds=re.sub(\"\\n\",\" \",mds)\n",
    "mds"
   ]
  },
  {
   "cell_type": "markdown",
   "id": "69aceec9",
   "metadata": {},
   "source": [
    "4. Removing extra spaces"
   ]
  },
  {
   "cell_type": "code",
   "execution_count": 10,
   "id": "0d3a0445",
   "metadata": {},
   "outputs": [
    {
     "name": "stdout",
     "output_type": "stream",
     "text": [
      "a candidate who has passed an undergraduate degree in bca/science with 50 % aggregate marks from any recognised university in india or abroad recognised by ugc / aiu is eligible to apply.students must fulfill either criteria a or b described below in order to be eligible for the course a. bachelor of computer applications bca. or b. under graduate degree in science with any two of the following subjects as major or minor 1. computer science 2. mathematics 3. statistics students appearing for their final degree examinations in march-may 2022 are also eligible to apply. applicants who are in the last year of their studies should have secured 50% or above aggregate in all the semesters / years of undergraduate examinations conducted so far.\n"
     ]
    }
   ],
   "source": [
    "mds=re.sub(\"\\s+\",\" \",mds)\n",
    "print(mds)"
   ]
  },
  {
   "cell_type": "markdown",
   "id": "875d8911",
   "metadata": {},
   "source": [
    "5. Changing the minimum percentage criteria to 70%"
   ]
  },
  {
   "cell_type": "code",
   "execution_count": 11,
   "id": "fd4fefdf",
   "metadata": {},
   "outputs": [
    {
     "name": "stdout",
     "output_type": "stream",
     "text": [
      "a candidate who has passed an undergraduate degree in bca/science with 70% aggregate marks from any recognised university in india or abroad recognised by ugc / aiu is eligible to apply.students must fulfill either criteria a or b described below in order to be eligible for the course a. bachelor of computer applications bca. or b. under graduate degree in science with any two of the following subjects as major or minor 1. computer science 2. mathematics 3. statistics students appearing for their final degree examinations in march-may 2022 are also eligible to apply. applicants who are in the last year of their studies should have secured 70% or above aggregate in all the semesters / years of undergraduate examinations conducted so far.\n"
     ]
    }
   ],
   "source": [
    "mds=re.sub(\"\\d\\d\\s*%\",\"70%\",mds)\n",
    "print(mds)"
   ]
  },
  {
   "cell_type": "markdown",
   "id": "921716fd",
   "metadata": {},
   "source": [
    "6. Rephrase 'Bachelors of computer application' to 'BCA'"
   ]
  },
  {
   "cell_type": "code",
   "execution_count": 12,
   "id": "07f1fb6a",
   "metadata": {},
   "outputs": [
    {
     "data": {
      "text/plain": [
       "'a candidate who has passed an undergraduate degree in bca/science with 70% aggregate marks from any recognised university in india or abroad recognised by ugc / aiu is eligible to apply.students must fulfill either criteria a or b described below in order to be eligible for the course a. BCA bca. or b. under graduate degree in science with any two of the following subjects as major or minor 1. computer science 2. mathematics 3. statistics students appearing for their final degree examinations in march-may 2022 are also eligible to apply. applicants who are in the last year of their studies should have secured 70% or above aggregate in all the semesters / years of undergraduate examinations conducted so far.'"
      ]
     },
     "execution_count": 12,
     "metadata": {},
     "output_type": "execute_result"
    }
   ],
   "source": [
    "mds=re.sub(\"bachelor\\s*of\\s*computer\\s*applications\",\"BCA\",mds)\n",
    "mds"
   ]
  },
  {
   "cell_type": "markdown",
   "id": "9cbdfea3",
   "metadata": {},
   "source": [
    "7. Rephrase 'Computer Science' to 'BSc(CS)'"
   ]
  },
  {
   "cell_type": "code",
   "execution_count": 13,
   "id": "b7274d0a",
   "metadata": {},
   "outputs": [
    {
     "data": {
      "text/plain": [
       "'a candidate who has passed an undergraduate degree in bca/science with 70% aggregate marks from any recognised university in india or abroad recognised by ugc / aiu is eligible to apply.students must fulfill either criteria a or b described below in order to be eligible for the course a. BCA bca. or b. under graduate degree in science with any two of the following subjects as major or minor 1. BSc(CS) 2. mathematics 3. statistics students appearing for their final degree examinations in march-may 2022 are also eligible to apply. applicants who are in the last year of their studies should have secured 70% or above aggregate in all the semesters / years of undergraduate examinations conducted so far.'"
      ]
     },
     "execution_count": 13,
     "metadata": {},
     "output_type": "execute_result"
    }
   ],
   "source": [
    "mds=re.sub(\"computer\\s*science\",\"BSc(CS)\",mds)\n",
    "mds"
   ]
  },
  {
   "cell_type": "markdown",
   "id": "9d7493e0",
   "metadata": {},
   "source": [
    "8. Rephrase 'Mathematics' to 'BSc(Math)'"
   ]
  },
  {
   "cell_type": "code",
   "execution_count": 14,
   "id": "81106fb4",
   "metadata": {},
   "outputs": [
    {
     "data": {
      "text/plain": [
       "'a candidate who has passed an undergraduate degree in bca/science with 70% aggregate marks from any recognised university in india or abroad recognised by ugc / aiu is eligible to apply.students must fulfill either criteria a or b described below in order to be eligible for the course a. BCA bca. or b. under graduate degree in science with any two of the following subjects as major or minor 1. BSc(CS) 2. BSc(Maths) 3. statistics students appearing for their final degree examinations in march-may 2022 are also eligible to apply. applicants who are in the last year of their studies should have secured 70% or above aggregate in all the semesters / years of undergraduate examinations conducted so far.'"
      ]
     },
     "execution_count": 14,
     "metadata": {},
     "output_type": "execute_result"
    }
   ],
   "source": [
    "mds=re.sub(\"mathematics\",\"BSc(Maths)\",mds)\n",
    "mds"
   ]
  },
  {
   "cell_type": "markdown",
   "id": "51df3506",
   "metadata": {},
   "source": [
    "9. Rephrase 'Statistics' to 'BSc(Stats)'"
   ]
  },
  {
   "cell_type": "code",
   "execution_count": 15,
   "id": "18d6f4fe",
   "metadata": {},
   "outputs": [
    {
     "data": {
      "text/plain": [
       "'a candidate who has passed an undergraduate degree in bca/science with 70% aggregate marks from any recognised university in india or abroad recognised by ugc / aiu is eligible to apply.students must fulfill either criteria a or b described below in order to be eligible for the course a. BCA bca. or b. under graduate degree in science with any two of the following subjects as major or minor 1. BSc(CS) 2. BSc(Maths) 3. BSc(Stats) students appearing for their final degree examinations in march-may 2022 are also eligible to apply. applicants who are in the last year of their studies should have secured 70% or above aggregate in all the semesters / years of undergraduate examinations conducted so far.'"
      ]
     },
     "execution_count": 15,
     "metadata": {},
     "output_type": "execute_result"
    }
   ],
   "source": [
    "mds=re.sub(\"statistics\",\"BSc(Stats)\",mds)\n",
    "mds"
   ]
  },
  {
   "cell_type": "markdown",
   "id": "edb196b4",
   "metadata": {},
   "source": [
    "10. Removing duplicates"
   ]
  },
  {
   "cell_type": "code",
   "execution_count": 16,
   "id": "db82fe85",
   "metadata": {},
   "outputs": [
    {
     "data": {
      "text/plain": [
       "'a candidate who has passed an undergraduate degree in bca/science with 70% aggregate marks from any recognised university in india or abroad recognised by ugc / aiu is eligible to apply.students must fulfill either criteria a or b described below in order to be eligible for the course a. BCA. or b. under graduate degree in science with any two of the following subjects as major or minor 1. BSc(CS) 2. BSc(Maths) 3. BSc(Stats) students appearing for their final degree examinations in march-may 2022 are also eligible to apply. applicants who are in the last year of their studies should have secured 70% or above aggregate in all the semesters / years of undergraduate examinations conducted so far.'"
      ]
     },
     "execution_count": 16,
     "metadata": {},
     "output_type": "execute_result"
    }
   ],
   "source": [
    "def removeDuplicatesFromText(text):\n",
    "    regex = r'\\b(\\w+)(?:\\W+\\1\\b)+' \n",
    "    return re.sub(regex, r'\\1', text, flags=re.IGNORECASE)\n",
    "\n",
    "removeDuplicatesFromText(mds)"
   ]
  },
  {
   "cell_type": "markdown",
   "id": "c05e2ddb",
   "metadata": {},
   "source": [
    "11. Display eligibility courses"
   ]
  },
  {
   "cell_type": "code",
   "execution_count": 17,
   "id": "326b003e",
   "metadata": {},
   "outputs": [
    {
     "data": {
      "text/plain": [
       "['BCA ', 'BSc(CS)', 'BSc(Maths)', 'BSc(Stats)']"
      ]
     },
     "execution_count": 17,
     "metadata": {},
     "output_type": "execute_result"
    }
   ],
   "source": [
    "mds_eli=re.findall(\"B\\w+\\s*\\(\\w+\\)|B\\w+\\s*\",mds)\n",
    "mds_eli"
   ]
  },
  {
   "cell_type": "markdown",
   "id": "e476e668",
   "metadata": {},
   "source": [
    "### Pre-processing MCA document"
   ]
  },
  {
   "cell_type": "code",
   "execution_count": 18,
   "id": "27867ac8",
   "metadata": {},
   "outputs": [
    {
     "name": "stdout",
     "output_type": "stream",
     "text": [
      "Candidates who have passed Undergraduate degree with a minimum aggregate of 50% and above, from any recognised University in India or abroad recognised by UGC / AIU, are eligible to apply.\n",
      "\n",
      "Students appearing for their final degree examinations in March-May 2022 are also eligible to apply (Applicants who are in the last year of their studies should have secured 50% or above aggregate in all the Semesters / Years of Undergraduate Examinations conducted so far).\n",
      "\n",
      "Applicants from non-Computer Science should have studied any of the following subjects at the Pre- University or Degree level â€“ Mathematics, Computer Science or Business Mathematics.\n"
     ]
    }
   ],
   "source": [
    "print(MCA)"
   ]
  },
  {
   "cell_type": "markdown",
   "id": "ff72059f",
   "metadata": {},
   "source": [
    "1. Lower case "
   ]
  },
  {
   "cell_type": "code",
   "execution_count": 19,
   "id": "405d4052",
   "metadata": {},
   "outputs": [
    {
     "name": "stdout",
     "output_type": "stream",
     "text": [
      "candidates who have passed undergraduate degree with a minimum aggregate of 50% and above, from any recognised university in india or abroad recognised by ugc / aiu, are eligible to apply.\n",
      "\n",
      "students appearing for their final degree examinations in march-may 2022 are also eligible to apply (applicants who are in the last year of their studies should have secured 50% or above aggregate in all the semesters / years of undergraduate examinations conducted so far).\n",
      "\n",
      "applicants from non-computer science should have studied any of the following subjects at the pre- university or degree level â€“ mathematics, computer science or business mathematics.\n"
     ]
    }
   ],
   "source": [
    "mca=MCA.lower()\n",
    "print(mca)"
   ]
  },
  {
   "cell_type": "markdown",
   "id": "37ec1b63",
   "metadata": {},
   "source": [
    "2. Removing punctuation"
   ]
  },
  {
   "cell_type": "code",
   "execution_count": 20,
   "id": "a1381e9b",
   "metadata": {},
   "outputs": [],
   "source": [
    "punc = '''!()[]{};:'\"“\\<>?@#$^&*_â€~'''"
   ]
  },
  {
   "cell_type": "code",
   "execution_count": 21,
   "id": "762b7159",
   "metadata": {},
   "outputs": [
    {
     "name": "stdout",
     "output_type": "stream",
     "text": [
      "candidates who have passed undergraduate degree with a minimum aggregate of 50% and above, from any recognised university in india or abroad recognised by ugc / aiu, are eligible to apply.\n",
      "\n",
      "students appearing for their final degree examinations in march-may 2022 are also eligible to apply applicants who are in the last year of their studies should have secured 50% or above aggregate in all the semesters / years of undergraduate examinations conducted so far.\n",
      "\n",
      "applicants from non-computer science should have studied any of the following subjects at the pre- university or degree level  mathematics, computer science or business mathematics.\n"
     ]
    }
   ],
   "source": [
    "for ele in mca:\n",
    "    if ele in punc:\n",
    "        mca = mca.replace(ele, \"\")\n",
    "print(mca)"
   ]
  },
  {
   "cell_type": "markdown",
   "id": "99c7b8c3",
   "metadata": {},
   "source": [
    "3. removing newline - '\\n'"
   ]
  },
  {
   "cell_type": "code",
   "execution_count": 22,
   "id": "f31df528",
   "metadata": {},
   "outputs": [
    {
     "data": {
      "text/plain": [
       "'candidates who have passed undergraduate degree with a minimum aggregate of 50% and above, from any recognised university in india or abroad recognised by ugc / aiu, are eligible to apply.  students appearing for their final degree examinations in march-may 2022 are also eligible to apply applicants who are in the last year of their studies should have secured 50% or above aggregate in all the semesters / years of undergraduate examinations conducted so far.  applicants from non-computer science should have studied any of the following subjects at the pre- university or degree level  mathematics, computer science or business mathematics.'"
      ]
     },
     "execution_count": 22,
     "metadata": {},
     "output_type": "execute_result"
    }
   ],
   "source": [
    "mca=re.sub(\"\\n\",\" \",mca)\n",
    "mca"
   ]
  },
  {
   "cell_type": "markdown",
   "id": "7ea44ebd",
   "metadata": {},
   "source": [
    "4. Removing extra spaces"
   ]
  },
  {
   "cell_type": "code",
   "execution_count": 23,
   "id": "b6eebb8d",
   "metadata": {},
   "outputs": [
    {
     "name": "stdout",
     "output_type": "stream",
     "text": [
      "candidates who have passed undergraduate degree with a minimum aggregate of 50% and above, from any recognised university in india or abroad recognised by ugc / aiu, are eligible to apply. students appearing for their final degree examinations in march-may 2022 are also eligible to apply applicants who are in the last year of their studies should have secured 50% or above aggregate in all the semesters / years of undergraduate examinations conducted so far. applicants from non-computer science should have studied any of the following subjects at the pre- university or degree level mathematics, computer science or business mathematics.\n"
     ]
    }
   ],
   "source": [
    "mca=re.sub(\"\\s+\",\" \",mca)\n",
    "print(mca)"
   ]
  },
  {
   "cell_type": "markdown",
   "id": "6ec57418",
   "metadata": {},
   "source": [
    "5. Changing the minimum percentage criteria to 70%"
   ]
  },
  {
   "cell_type": "code",
   "execution_count": 24,
   "id": "79e59467",
   "metadata": {},
   "outputs": [
    {
     "name": "stdout",
     "output_type": "stream",
     "text": [
      "candidates who have passed undergraduate degree with a minimum aggregate of 70% and above, from any recognised university in india or abroad recognised by ugc / aiu, are eligible to apply. students appearing for their final degree examinations in march-may 2022 are also eligible to apply applicants who are in the last year of their studies should have secured 70% or above aggregate in all the semesters / years of undergraduate examinations conducted so far. applicants from non-computer science should have studied any of the following subjects at the pre- university or degree level mathematics, computer science or business mathematics.\n"
     ]
    }
   ],
   "source": [
    "mca=re.sub(\"\\d\\d\\s*%\",\"70%\",mca)\n",
    "print(mca)"
   ]
  },
  {
   "cell_type": "markdown",
   "id": "736b00cb",
   "metadata": {},
   "source": [
    "6. Rephrase course names"
   ]
  },
  {
   "cell_type": "code",
   "execution_count": 25,
   "id": "c301d8a8",
   "metadata": {},
   "outputs": [
    {
     "data": {
      "text/plain": [
       "'candidates who have passed undergraduate degree with a minimum aggregate of 70% and above, from any recognised university in india or abroad recognised by ugc / aiu, are eligible to apply. students appearing for their final degree examinations in march-may 2022 are also eligible to apply applicants who are in the last year of their studies should have secured 70% or above aggregate in all the semesters / years of undergraduate examinations conducted so far. applicants from non-computer science should have studied any of the following subjects at the pre- university or degree BSc(Maths), BSc(CS) or BSc(BM).'"
      ]
     },
     "execution_count": 25,
     "metadata": {},
     "output_type": "execute_result"
    }
   ],
   "source": [
    "mca=re.sub(\"bachelor\\s*of\\s*computer\\s*applications\",\"BCA\",mca)\n",
    "mca=re.sub(\"level\\s*mathematics\",\"BSc(Maths)\",mca)\n",
    "mca=re.sub(\",\\s*computer\\s*science\",\", BSc(CS)\",mca)\n",
    "mca=re.sub(\"business\\s*mathematics\",\"BSc(BM)\",mca)\n",
    "mca"
   ]
  },
  {
   "cell_type": "markdown",
   "id": "2a72fe8f",
   "metadata": {},
   "source": [
    "7. Display eligibility courses"
   ]
  },
  {
   "cell_type": "code",
   "execution_count": 26,
   "id": "7d67fb4b",
   "metadata": {},
   "outputs": [
    {
     "data": {
      "text/plain": [
       "['BSc(Maths)', 'BSc(CS)', 'BSc(BM)']"
      ]
     },
     "execution_count": 26,
     "metadata": {},
     "output_type": "execute_result"
    }
   ],
   "source": [
    "mca_el=re.findall(\"B\\w+\\s*\\(\\w+\\)|B\\w+\\s*\",mca)\n",
    "mca_el"
   ]
  },
  {
   "cell_type": "markdown",
   "id": "15df53a5",
   "metadata": {},
   "source": [
    "### Pre processing MSc Statistics file"
   ]
  },
  {
   "cell_type": "code",
   "execution_count": 27,
   "id": "ba4bb9d0",
   "metadata": {},
   "outputs": [
    {
     "name": "stdout",
     "output_type": "stream",
     "text": [
      "Candidates who have passed the Undergraduate degree examination with 50 % aggregate marks and (minimum of 50% in Statistics and Mathematics as major or minor subjects) from any recognised University in India or abroad recognised by UGC / AIU are eligible to apply.\n",
      " \n",
      "Students appearing for their final degree examinations in March-May 2022 are also eligible to apply. Applicants who are in the last year of their studies should have secured 50% or above aggregate in all the Semesters / Years of Undergraduate Examinations conducted so far and 50% of marks in (Statistics and Mathematics as major or minor subjects).\n"
     ]
    }
   ],
   "source": [
    "print(STAT)"
   ]
  },
  {
   "cell_type": "markdown",
   "id": "a1644f02",
   "metadata": {},
   "source": [
    "1. Lowercase"
   ]
  },
  {
   "cell_type": "code",
   "execution_count": 28,
   "id": "319715fa",
   "metadata": {},
   "outputs": [
    {
     "name": "stdout",
     "output_type": "stream",
     "text": [
      "candidates who have passed the undergraduate degree examination with 50 % aggregate marks and (minimum of 50% in statistics and mathematics as major or minor subjects) from any recognised university in india or abroad recognised by ugc / aiu are eligible to apply.\n",
      " \n",
      "students appearing for their final degree examinations in march-may 2022 are also eligible to apply. applicants who are in the last year of their studies should have secured 50% or above aggregate in all the semesters / years of undergraduate examinations conducted so far and 50% of marks in (statistics and mathematics as major or minor subjects).\n"
     ]
    }
   ],
   "source": [
    "stats=STAT.lower()\n",
    "print(stats)"
   ]
  },
  {
   "cell_type": "markdown",
   "id": "12cccc5a",
   "metadata": {},
   "source": [
    "2. Removing Punctuations"
   ]
  },
  {
   "cell_type": "code",
   "execution_count": 29,
   "id": "a3396c10",
   "metadata": {},
   "outputs": [
    {
     "name": "stdout",
     "output_type": "stream",
     "text": [
      "candidates who have passed the undergraduate degree examination with 50 % aggregate marks and (minimum of 50% in statistics and mathematics as major or minor subjects) from any recognised university in india or abroad recognised by ugc / aiu are eligible to apply.\n",
      " \n",
      "students appearing for their final degree examinations in march-may 2022 are also eligible to apply. applicants who are in the last year of their studies should have secured 50% or above aggregate in all the semesters / years of undergraduate examinations conducted so far and 50% of marks in (statistics and mathematics as major or minor subjects).\n"
     ]
    }
   ],
   "source": [
    "punc = '''![]{};:'\"\\,<>?@#$^&*_~'''\n",
    "for ele in stats:\n",
    "    if ele in punc:\n",
    "        stats = mds.replace(ele, \"\")\n",
    "print(stats)"
   ]
  },
  {
   "cell_type": "markdown",
   "id": "01738e47",
   "metadata": {},
   "source": [
    "3. removing newline - '\\n'"
   ]
  },
  {
   "cell_type": "code",
   "execution_count": 30,
   "id": "d3b8071a",
   "metadata": {},
   "outputs": [
    {
     "data": {
      "text/plain": [
       "'candidates who have passed the undergraduate degree examination with 50 % aggregate marks and (minimum of 50% in statistics and mathematics as major or minor subjects) from any recognised university in india or abroad recognised by ugc / aiu are eligible to apply.   students appearing for their final degree examinations in march-may 2022 are also eligible to apply. applicants who are in the last year of their studies should have secured 50% or above aggregate in all the semesters / years of undergraduate examinations conducted so far and 50% of marks in (statistics and mathematics as major or minor subjects).'"
      ]
     },
     "execution_count": 30,
     "metadata": {},
     "output_type": "execute_result"
    }
   ],
   "source": [
    "stats=re.sub(\"\\n\",\" \",stats)\n",
    "stats"
   ]
  },
  {
   "cell_type": "markdown",
   "id": "3f0ffc9a",
   "metadata": {},
   "source": [
    "4. Removing extra spaces"
   ]
  },
  {
   "cell_type": "code",
   "execution_count": 31,
   "id": "e5cad376",
   "metadata": {},
   "outputs": [
    {
     "name": "stdout",
     "output_type": "stream",
     "text": [
      "candidates who have passed the undergraduate degree examination with 50 % aggregate marks and (minimum of 50% in statistics and mathematics as major or minor subjects) from any recognised university in india or abroad recognised by ugc / aiu are eligible to apply. students appearing for their final degree examinations in march-may 2022 are also eligible to apply. applicants who are in the last year of their studies should have secured 50% or above aggregate in all the semesters / years of undergraduate examinations conducted so far and 50% of marks in (statistics and mathematics as major or minor subjects).\n"
     ]
    }
   ],
   "source": [
    "stats=re.sub(\"\\s+\",\" \",stats)\n",
    "print(stats)"
   ]
  },
  {
   "cell_type": "markdown",
   "id": "7ace9b3b",
   "metadata": {},
   "source": [
    "5. Changing the minimum percentage criteria to 70%"
   ]
  },
  {
   "cell_type": "code",
   "execution_count": 32,
   "id": "bf3c0afb",
   "metadata": {},
   "outputs": [
    {
     "name": "stdout",
     "output_type": "stream",
     "text": [
      "candidates who have passed the undergraduate degree examination with 70% aggregate marks and (minimum of 70% in statistics and mathematics as major or minor subjects) from any recognised university in india or abroad recognised by ugc / aiu are eligible to apply. students appearing for their final degree examinations in march-may 2022 are also eligible to apply. applicants who are in the last year of their studies should have secured 70% or above aggregate in all the semesters / years of undergraduate examinations conducted so far and 70% of marks in (statistics and mathematics as major or minor subjects).\n"
     ]
    }
   ],
   "source": [
    "stats=re.sub(\"\\d\\d\\s*%\",\"70%\",stats)\n",
    "print(stats)"
   ]
  },
  {
   "cell_type": "markdown",
   "id": "ebc88039",
   "metadata": {},
   "source": [
    "6. Rephrasing course names"
   ]
  },
  {
   "cell_type": "code",
   "execution_count": 33,
   "id": "bb8256a2",
   "metadata": {},
   "outputs": [
    {
     "data": {
      "text/plain": [
       "'candidates who have passed the undergraduate degree examination with 70% aggregate marks and (minimum of 70% in BSc(Stats) and BSc(Maths) as major or minor subjects) from any recognised university in india or abroad recognised by ugc / aiu are eligible to apply. students appearing for their final degree examinations in march-may 2022 are also eligible to apply. applicants who are in the last year of their studies should have secured 70% or above aggregate in all the semesters / years of undergraduate examinations conducted so far and 70% of marks in (BSc(Stats) and BSc(Maths) as major or minor subjects).'"
      ]
     },
     "execution_count": 33,
     "metadata": {},
     "output_type": "execute_result"
    }
   ],
   "source": [
    "stats=re.sub(\"mathematics\",\"BSc(Maths)\",stats)\n",
    "stats=re.sub(\"statistics\",\"BSc(Stats)\",stats)\n",
    "\n",
    "stats"
   ]
  },
  {
   "cell_type": "markdown",
   "id": "69f356c8",
   "metadata": {},
   "source": [
    "7. Print the eligibility courses"
   ]
  },
  {
   "cell_type": "code",
   "execution_count": 34,
   "id": "e3fcef0e",
   "metadata": {},
   "outputs": [
    {
     "data": {
      "text/plain": [
       "['BSc(Stats)', 'BSc(Maths)', 'BSc(Stats)', 'BSc(Maths)']"
      ]
     },
     "execution_count": 34,
     "metadata": {},
     "output_type": "execute_result"
    }
   ],
   "source": [
    "stats_eli= re.findall(\"B\\w+\\s*\\(\\w+\\)|B\\w+\\s*\",stats)\n",
    "stats_eli"
   ]
  },
  {
   "cell_type": "code",
   "execution_count": 35,
   "id": "70d96049",
   "metadata": {},
   "outputs": [
    {
     "data": {
      "text/plain": [
       "['BSc(Stats)', 'BSc(Maths)']"
      ]
     },
     "execution_count": 35,
     "metadata": {},
     "output_type": "execute_result"
    }
   ],
   "source": [
    "test_list = stats_eli\n",
    "unique_stats = []\n",
    "for i in test_list:\n",
    "    if i not in unique_stats:\n",
    "        unique_stats.append(i)\n",
    "unique_stats"
   ]
  },
  {
   "cell_type": "markdown",
   "id": "0d4e5c7b",
   "metadata": {},
   "source": [
    "### Pre Processing Data Analytics text file"
   ]
  },
  {
   "cell_type": "markdown",
   "id": "e6d24474",
   "metadata": {},
   "source": [
    "1. Lowercase"
   ]
  },
  {
   "cell_type": "code",
   "execution_count": 36,
   "id": "090a4cb2",
   "metadata": {},
   "outputs": [
    {
     "name": "stdout",
     "output_type": "stream",
     "text": [
      "candidates having 50% aggregate marks from any recognised university in india or abroad recognised by ugc / aiu in any of the following programmes are eligible:\n",
      "\n",
      "(i)    bsc / be / b.tech with mathematics as a major or minor\n",
      "\n",
      "(ii)  bcom / bba with business maths or data analytics as specialization\n"
     ]
    }
   ],
   "source": [
    "da=DA.lower()\n",
    "print(da)"
   ]
  },
  {
   "cell_type": "markdown",
   "id": "c7725a0c",
   "metadata": {},
   "source": [
    "2. Removing Punctuations"
   ]
  },
  {
   "cell_type": "code",
   "execution_count": 37,
   "id": "31e5cbc2",
   "metadata": {},
   "outputs": [
    {
     "name": "stdout",
     "output_type": "stream",
     "text": [
      "candidates having 50% aggregate marks from any recognised university in india or abroad recognised by ugc / aiu in any of the following programmes are eligible:\n",
      "\n",
      "(i)    bsc / be / b.tech with mathematics as a major or minor\n",
      "\n",
      "(ii)  bcom / bba with business maths or data analytics as specialization\n"
     ]
    }
   ],
   "source": [
    "punc = '''![]{};:'\"\\,<>?@#$^&*_~'''\n",
    "for ele in da:\n",
    "    if ele in punc:\n",
    "        stats = da.replace(ele, \"\")\n",
    "print(da)"
   ]
  },
  {
   "cell_type": "markdown",
   "id": "8b0d1ac6",
   "metadata": {},
   "source": [
    "3. removing newline - '\\n'"
   ]
  },
  {
   "cell_type": "code",
   "execution_count": 38,
   "id": "3fc6ed61",
   "metadata": {},
   "outputs": [
    {
     "data": {
      "text/plain": [
       "'candidates having 50% aggregate marks from any recognised university in india or abroad recognised by ugc / aiu in any of the following programmes are eligible:  (i)    bsc / be / b.tech with mathematics as a major or minor  (ii)  bcom / bba with business maths or data analytics as specialization'"
      ]
     },
     "execution_count": 38,
     "metadata": {},
     "output_type": "execute_result"
    }
   ],
   "source": [
    "da=re.sub(\"\\n\",\" \",da)\n",
    "da"
   ]
  },
  {
   "cell_type": "markdown",
   "id": "2cfc72b8",
   "metadata": {},
   "source": [
    "4. Removing extra spaces"
   ]
  },
  {
   "cell_type": "code",
   "execution_count": 39,
   "id": "8cb3aa23",
   "metadata": {},
   "outputs": [
    {
     "name": "stdout",
     "output_type": "stream",
     "text": [
      "candidates having 50% aggregate marks from any recognised university in india or abroad recognised by ugc / aiu in any of the following programmes are eligible: (i) bsc / be / b.tech with mathematics as a major or minor (ii) bcom / bba with business maths or data analytics as specialization\n"
     ]
    }
   ],
   "source": [
    "da=re.sub(\"\\s+\",\" \",da)\n",
    "print(da)"
   ]
  },
  {
   "cell_type": "markdown",
   "id": "75d7b1b2",
   "metadata": {},
   "source": [
    "5. Changing the minimum percentage criteria to 70%"
   ]
  },
  {
   "cell_type": "code",
   "execution_count": 40,
   "id": "c7970763",
   "metadata": {},
   "outputs": [
    {
     "name": "stdout",
     "output_type": "stream",
     "text": [
      "candidates having 70% aggregate marks from any recognised university in india or abroad recognised by ugc / aiu in any of the following programmes are eligible: (i) bsc / be / b.tech with mathematics as a major or minor (ii) bcom / bba with business maths or data analytics as specialization\n"
     ]
    }
   ],
   "source": [
    "da=re.sub(\"\\d\\d\\s*%\",\"70%\",da)\n",
    "print(da)"
   ]
  },
  {
   "cell_type": "markdown",
   "id": "f1291bf7",
   "metadata": {},
   "source": [
    "6. Rephrasing course names"
   ]
  },
  {
   "cell_type": "code",
   "execution_count": 41,
   "id": "07b6af54",
   "metadata": {},
   "outputs": [
    {
     "name": "stdout",
     "output_type": "stream",
     "text": [
      "candidates having 70% aggregate marks from any recognised university in india or abroad recognised by ugc / aiu in any of the following programmes are eligible: (i) BSc(Maths) / BE(Maths) / BTech(Maths) (ii) BCom / BBA\n"
     ]
    }
   ],
   "source": [
    "da=re.sub(\"bsc / be / b.tech with mathematics as a major or minor\",\"BSc(Maths) / BE(Maths) / BTech(Maths)\",da)\n",
    "da=re.sub(\"bcom / bba with business maths or data analytics as specialization\",\"BCom / BBA\",da)\n",
    "print(da)"
   ]
  },
  {
   "cell_type": "markdown",
   "id": "bb568919",
   "metadata": {},
   "source": [
    "7. Print eligibility course"
   ]
  },
  {
   "cell_type": "code",
   "execution_count": 42,
   "id": "296d1021",
   "metadata": {},
   "outputs": [
    {
     "data": {
      "text/plain": [
       "['BSc(Maths)', 'BE(Maths)', 'BTech(Maths)', 'BCom ', 'BBA']"
      ]
     },
     "execution_count": 42,
     "metadata": {},
     "output_type": "execute_result"
    }
   ],
   "source": [
    "da_eli=re.findall(\"B\\w+\\s*\\(\\w+\\)|B\\w+\\s*\",da)\n",
    "da_eli"
   ]
  },
  {
   "cell_type": "markdown",
   "id": "9554e9da",
   "metadata": {},
   "source": [
    "### Creating a dataframe for eligibility courses"
   ]
  },
  {
   "cell_type": "code",
   "execution_count": 43,
   "id": "eb56dfd2",
   "metadata": {},
   "outputs": [],
   "source": [
    "import pandas as pd"
   ]
  },
  {
   "cell_type": "code",
   "execution_count": 44,
   "id": "5e13ef65",
   "metadata": {},
   "outputs": [
    {
     "data": {
      "text/html": [
       "<div>\n",
       "<style scoped>\n",
       "    .dataframe tbody tr th:only-of-type {\n",
       "        vertical-align: middle;\n",
       "    }\n",
       "\n",
       "    .dataframe tbody tr th {\n",
       "        vertical-align: top;\n",
       "    }\n",
       "\n",
       "    .dataframe thead th {\n",
       "        text-align: right;\n",
       "    }\n",
       "</style>\n",
       "<table border=\"1\" class=\"dataframe\">\n",
       "  <thead>\n",
       "    <tr style=\"text-align: right;\">\n",
       "      <th></th>\n",
       "      <th>Course</th>\n",
       "      <th>Eligibility</th>\n",
       "    </tr>\n",
       "  </thead>\n",
       "  <tbody>\n",
       "    <tr>\n",
       "      <th>0</th>\n",
       "      <td>MSc Data Science</td>\n",
       "      <td>[BCA , BSc(CS), BSc(Maths), BSc(Stats)]</td>\n",
       "    </tr>\n",
       "    <tr>\n",
       "      <th>1</th>\n",
       "      <td>MCA</td>\n",
       "      <td>[BSc(Maths), BSc(CS), BSc(BM)]</td>\n",
       "    </tr>\n",
       "    <tr>\n",
       "      <th>2</th>\n",
       "      <td>MSc Data Analytics</td>\n",
       "      <td>[BSc(Maths), BE(Maths), BTech(Maths), BCom , BBA]</td>\n",
       "    </tr>\n",
       "    <tr>\n",
       "      <th>3</th>\n",
       "      <td>MSc Statistics</td>\n",
       "      <td>[BSc(Stats), BSc(Maths)]</td>\n",
       "    </tr>\n",
       "  </tbody>\n",
       "</table>\n",
       "</div>"
      ],
      "text/plain": [
       "               Course                                        Eligibility\n",
       "0    MSc Data Science            [BCA , BSc(CS), BSc(Maths), BSc(Stats)]\n",
       "1                 MCA                     [BSc(Maths), BSc(CS), BSc(BM)]\n",
       "2  MSc Data Analytics  [BSc(Maths), BE(Maths), BTech(Maths), BCom , BBA]\n",
       "3      MSc Statistics                           [BSc(Stats), BSc(Maths)]"
      ]
     },
     "execution_count": 44,
     "metadata": {},
     "output_type": "execute_result"
    }
   ],
   "source": [
    "df=pd.DataFrame({\"Course\":('MSc Data Science','MCA','MSc Data Analytics','MSc Statistics'),\"Eligibility\":(mds_eli,mca_el,da_eli,unique_stats)})\n",
    "df"
   ]
  }
 ],
 "metadata": {
  "kernelspec": {
   "display_name": "Python 3 (ipykernel)",
   "language": "python",
   "name": "python3"
  },
  "language_info": {
   "codemirror_mode": {
    "name": "ipython",
    "version": 3
   },
   "file_extension": ".py",
   "mimetype": "text/x-python",
   "name": "python",
   "nbconvert_exporter": "python",
   "pygments_lexer": "ipython3",
   "version": "3.9.7"
  }
 },
 "nbformat": 4,
 "nbformat_minor": 5
}
