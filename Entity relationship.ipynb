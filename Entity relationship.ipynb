{
 "cells": [
  {
   "cell_type": "markdown",
   "metadata": {},
   "source": [
    "## <center> NATURAL LANGUAGE PROCESSING </center>\n",
    "### <center> Entity Relationship </center>\n",
    "### <center> K Nidhi Sharma, 2148041 </center> "
   ]
  },
  {
   "cell_type": "markdown",
   "metadata": {},
   "source": [
    "A named entity is basically a real-life object which has proper identification and can be denoted with a proper name. Named Entities can be a place, person, organization, time, object, or geographic entity.`"
   ]
  },
  {
   "cell_type": "markdown",
   "metadata": {},
   "source": [
    "### Libraries and Installation "
   ]
  },
  {
   "cell_type": "code",
   "execution_count": 1,
   "metadata": {
    "colab": {
     "base_uri": "https://localhost:8080/",
     "height": 505
    },
    "id": "SNyKdnt-FCB9",
    "outputId": "d18fd6ba-e7c7-4420-ccb0-8f842df38097"
   },
   "outputs": [],
   "source": [
    "#pip install -U pip setuptools wheel"
   ]
  },
  {
   "cell_type": "code",
   "execution_count": 2,
   "metadata": {
    "colab": {
     "base_uri": "https://localhost:8080/"
    },
    "id": "OCGKujlNFQ90",
    "outputId": "ab05cdee-f2ae-4bda-e484-aa8515eb92fc"
   },
   "outputs": [],
   "source": [
    "#pip install -U spacy"
   ]
  },
  {
   "cell_type": "code",
   "execution_count": 3,
   "metadata": {
    "colab": {
     "base_uri": "https://localhost:8080/"
    },
    "id": "hf2hmMA0FvCq",
    "outputId": "b0309b83-036d-4205-e8d1-a775f19be053"
   },
   "outputs": [
    {
     "name": "stdout",
     "output_type": "stream",
     "text": [
      "✔ Download and installation successful\n",
      "You can now load the package via spacy.load('en_core_web_sm')\n",
      "✔ Download and installation successful\n",
      "You can now load the package via spacy.load('en_core_web_md')\n"
     ]
    }
   ],
   "source": [
    "import spacy\n",
    "from spacy import displacy\n",
    "from spacy.cli import download\n",
    "download(\"en_core_web_sm\")\n",
    "download(\"en_core_web_md\")"
   ]
  },
  {
   "cell_type": "code",
   "execution_count": 4,
   "metadata": {
    "id": "j8bkbNGVF2Ck"
   },
   "outputs": [],
   "source": [
    "NER = spacy.load(\"en_core_web_md\")"
   ]
  },
  {
   "cell_type": "code",
   "execution_count": 5,
   "metadata": {
    "id": "5N3Meg32Dc8S"
   },
   "outputs": [
    {
     "name": "stdout",
     "output_type": "stream",
     "text": [
      "Enter sentence: Nidhi is studying in Christ university. Sristy is studying in Jain university.\n"
     ]
    }
   ],
   "source": [
    "input= input(\"Enter sentence: \")"
   ]
  },
  {
   "cell_type": "code",
   "execution_count": 6,
   "metadata": {
    "id": "DC-FwUUeF1R6"
   },
   "outputs": [],
   "source": [
    "nerinput= NER(input)"
   ]
  },
  {
   "cell_type": "code",
   "execution_count": 7,
   "metadata": {
    "colab": {
     "base_uri": "https://localhost:8080/"
    },
    "id": "G98qk6_MY3pc",
    "outputId": "863ef5d9-46e6-4b9d-f82a-668934067976"
   },
   "outputs": [
    {
     "data": {
      "text/plain": [
       "Nidhi is studying in Christ university. Sristy is studying in Jain university."
      ]
     },
     "execution_count": 7,
     "metadata": {},
     "output_type": "execute_result"
    }
   ],
   "source": [
    "nerinput"
   ]
  },
  {
   "cell_type": "code",
   "execution_count": 8,
   "metadata": {
    "colab": {
     "base_uri": "https://localhost:8080/"
    },
    "id": "NPKK_eNBZALn",
    "outputId": "2e06fcae-2d04-415a-b1d8-f95c6153209c"
   },
   "outputs": [
    {
     "name": "stdout",
     "output_type": "stream",
     "text": [
      "Nidhi PERSON\n",
      "Christ university ORG\n",
      "Sristy ORG\n",
      "Jain university ORG\n"
     ]
    }
   ],
   "source": [
    "for word in nerinput.ents:\n",
    "    print(word.text,word.label_)"
   ]
  },
  {
   "cell_type": "code",
   "execution_count": 9,
   "metadata": {
    "colab": {
     "base_uri": "https://localhost:8080/"
    },
    "id": "vETsEDDldBfx",
    "outputId": "1beadf93-b96f-4e4a-960b-bbf3300b755d"
   },
   "outputs": [
    {
     "data": {
      "text/plain": [
       "(Nidhi, Christ university, Sristy, Jain university)"
      ]
     },
     "execution_count": 9,
     "metadata": {},
     "output_type": "execute_result"
    }
   ],
   "source": [
    "nerinput.ents"
   ]
  },
  {
   "cell_type": "code",
   "execution_count": 10,
   "metadata": {
    "colab": {
     "base_uri": "https://localhost:8080/"
    },
    "id": "I85Jrzo6g-sk",
    "outputId": "2b6a39b0-7337-4293-a2c7-e485d4487e53"
   },
   "outputs": [
    {
     "data": {
      "text/plain": [
       "4"
      ]
     },
     "execution_count": 10,
     "metadata": {},
     "output_type": "execute_result"
    }
   ],
   "source": [
    "len(nerinput.ents)"
   ]
  },
  {
   "cell_type": "code",
   "execution_count": 11,
   "metadata": {
    "colab": {
     "base_uri": "https://localhost:8080/"
    },
    "id": "IEU18OA_F01M",
    "outputId": "8de3e354-8a1a-4d47-8795-47b3434e0a55"
   },
   "outputs": [
    {
     "name": "stderr",
     "output_type": "stream",
     "text": [
      "[nltk_data] Downloading package punkt to\n",
      "[nltk_data]     C:\\Users\\Nidhi\\AppData\\Roaming\\nltk_data...\n",
      "[nltk_data]   Package punkt is already up-to-date!\n",
      "[nltk_data] Downloading package averaged_perceptron_tagger to\n",
      "[nltk_data]     C:\\Users\\Nidhi\\AppData\\Roaming\\nltk_data...\n",
      "[nltk_data]   Package averaged_perceptron_tagger is already up-to-\n",
      "[nltk_data]       date!\n"
     ]
    },
    {
     "data": {
      "text/plain": [
       "True"
      ]
     },
     "execution_count": 11,
     "metadata": {},
     "output_type": "execute_result"
    }
   ],
   "source": [
    "import pandas as pd\n",
    "import nltk\n",
    "from nltk import word_tokenize,sent_tokenize,pos_tag\n",
    "nltk.download('punkt')\n",
    "nltk.download('averaged_perceptron_tagger')"
   ]
  },
  {
   "cell_type": "code",
   "execution_count": 12,
   "metadata": {},
   "outputs": [
    {
     "name": "stdout",
     "output_type": "stream",
     "text": [
      "entity1 Nidhi relation [('is', 'VBZ'), ('studying', 'VBG')] entity2 Christ university\n",
      "entity1 Sristy relation [('is', 'VBZ'), ('studying', 'VBG')] entity2 Jain university\n"
     ]
    }
   ],
   "source": [
    "sentences=sent_tokenize(input)\n",
    "for sent in sentences:\n",
    "    nerinput= NER(sent)\n",
    "    if len(nerinput.ents)==2:\n",
    "        tokens = word_tokenize(sent)\n",
    "        tagged=pos_tag(tokens)\n",
    "        verb=[(word,tag) for word, tag in tagged \n",
    "                if tag.startswith('VB')]\n",
    "    print(\"entity1\",nerinput.ents[0],\"relation\",verb,\"entity2\",nerinput.ents[1])\n"
   ]
  }
 ],
 "metadata": {
  "colab": {
   "provenance": []
  },
  "kernelspec": {
   "display_name": "Python 3 (ipykernel)",
   "language": "python",
   "name": "python3"
  },
  "language_info": {
   "codemirror_mode": {
    "name": "ipython",
    "version": 3
   },
   "file_extension": ".py",
   "mimetype": "text/x-python",
   "name": "python",
   "nbconvert_exporter": "python",
   "pygments_lexer": "ipython3",
   "version": "3.9.7"
  }
 },
 "nbformat": 4,
 "nbformat_minor": 1
}
